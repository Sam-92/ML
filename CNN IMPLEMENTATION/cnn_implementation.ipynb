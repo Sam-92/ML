{
 "cells": [
  {
   "cell_type": "code",
   "execution_count": 33,
   "metadata": {},
   "outputs": [],
   "source": [
    "# import tensorflow module. Check API version.\n",
    "import tensorflow as tf"
   ]
  },
  {
   "cell_type": "code",
   "execution_count": 34,
   "metadata": {},
   "outputs": [
    {
     "name": "stdout",
     "output_type": "stream",
     "text": [
      "[INFO] downloading Fashion MNIST...\n"
     ]
    }
   ],
   "source": [
    "# grab the Fashion MNIST dataset (may take time the first time)\n",
    "print(\"[INFO] downloading Fashion MNIST...\")\n",
    "(trainData, trainLabels), (testData, testLabels) = tf.keras.datasets.fashion_mnist.load_data()"
   ]
  },
  {
   "cell_type": "code",
   "execution_count": 35,
   "metadata": {},
   "outputs": [],
   "source": [
    "# parameters for Fashion MNIST data set\n",
    "num_classes = 10\n",
    "image_width = 28\n",
    "image_height = 28\n",
    "image_channels = 1\n",
    "# define human readable class names\n",
    "class_names = ['T-shirt/top', 'Trouser', 'Pullover', 'Dress', 'Coat/jacket',\n",
    "               'Sandal', 'Shirt', 'Sneaker', 'Bag', 'Ankle boot']"
   ]
  },
  {
   "cell_type": "code",
   "execution_count": 36,
   "metadata": {},
   "outputs": [
    {
     "data": {
      "text/plain": [
       "<matplotlib.image.AxesImage at 0x7fdfc2505730>"
      ]
     },
     "execution_count": 36,
     "metadata": {},
     "output_type": "execute_result"
    },
    {
     "data": {
      "image/png": "[encoded data removed]",
      "text/plain": [
       "<Figure size 432x288 with 1 Axes>"
      ]
     },
     "metadata": {
      "needs_background": "light"
     },
     "output_type": "display_data"
    }
   ],
   "source": [
    "import matplotlib.pyplot as plt\n",
    "plt.imshow(trainData[0])"
   ]
  },
  {
   "cell_type": "code",
   "execution_count": 37,
   "metadata": {},
   "outputs": [
    {
     "data": {
      "text/plain": [
       "(60000, 28, 28)"
      ]
     },
     "execution_count": 37,
     "metadata": {},
     "output_type": "execute_result"
    }
   ],
   "source": [
    "trainData.shape"
   ]
  },
  {
   "cell_type": "code",
   "execution_count": 38,
   "metadata": {},
   "outputs": [],
   "source": [
    "# shape the input data using \"channels last\" ordering\n",
    "# num_samples x rows x columns x depth\n",
    "trainData = trainData.reshape(\n",
    "        (trainData.shape[0], image_height, image_width, image_channels))\n",
    "testData = testData.reshape(\n",
    "        (testData.shape[0], image_height, image_width, image_channels))"
   ]
  },
  {
   "cell_type": "code",
   "execution_count": 41,
   "metadata": {},
   "outputs": [
    {
     "data": {
      "text/plain": [
       "(60000, 28, 28, 1)"
      ]
     },
     "execution_count": 41,
     "metadata": {},
     "output_type": "execute_result"
    }
   ],
   "source": [
    "trainData.shape"
   ]
  },
  {
   "cell_type": "code",
   "execution_count": 42,
   "metadata": {},
   "outputs": [],
   "source": [
    "import numpy as np"
   ]
  },
  {
   "cell_type": "code",
   "execution_count": 43,
   "metadata": {},
   "outputs": [],
   "source": [
    "# pad the data to 32X32 for use in LeNet5 network\n",
    "trainData = np.pad(trainData, ((0,0),(2,2),(2,2),(0,0)), 'constant')\n",
    "testData = np.pad(testData, ((0,0),(2,2),(2,2),(0,0)), 'constant')"
   ]
  },
  {
   "cell_type": "code",
   "execution_count": 44,
   "metadata": {},
   "outputs": [
    {
     "data": {
      "text/plain": [
       "(60000, 32, 32, 1)"
      ]
     },
     "execution_count": 44,
     "metadata": {},
     "output_type": "execute_result"
    }
   ],
   "source": [
    "trainData.shape"
   ]
  },
  {
   "cell_type": "code",
   "execution_count": 45,
   "metadata": {},
   "outputs": [
    {
     "name": "stdout",
     "output_type": "stream",
     "text": [
      "trainData: (60000, 32, 32, 1)\n",
      "trainLabels: (60000,)\n",
      "testData: (10000, 32, 32, 1)\n",
      "testLabels: (10000,)\n"
     ]
    }
   ],
   "source": [
    "# display data dimentions\n",
    "print (\"trainData:\", trainData.shape)\n",
    "print (\"trainLabels:\", trainLabels.shape)\n",
    "print (\"testData:\", testData.shape)\n",
    "print (\"testLabels:\", testLabels.shape)"
   ]
  },
  {
   "cell_type": "code",
   "execution_count": 46,
   "metadata": {},
   "outputs": [],
   "source": [
    "# parameters for training data set\n",
    "num_classes = 10\n",
    "image_width = 32\n",
    "image_height = 32\n",
    "image_channels = 1"
   ]
  },
  {
   "cell_type": "markdown",
   "metadata": {},
   "source": [
    "### LeNet5-Model"
   ]
  },
  {
   "cell_type": "markdown",
   "metadata": {},
   "source": [
    "### Define Model"
   ]
  },
  {
   "cell_type": "code",
   "execution_count": 47,
   "metadata": {},
   "outputs": [],
   "source": [
    "# import the necessary packages\n",
    "from tensorflow.keras import backend\n",
    "from tensorflow.keras import models\n",
    "from tensorflow.keras import layers\n",
    "\n",
    "# define the model as a class\n",
    "class LeNet:\n",
    "    # INPUT => CONV => TANH => AVG-POOL => CONV => TANH => AVG-POOL => FC => TANH => FC => TANH => FC => SMAX\n",
    "    @staticmethod\n",
    "    def init(numChannels, imgRows, imgCols, numClasses, weightsPath=None):\n",
    "        # if we are using \"channels first\", update the input shape\n",
    "        if backend.image_data_format() == \"channels_first\":\n",
    "            inputShape = (numChannels, imgRows, imgCols)\n",
    "        else:  # \"channels last\"\n",
    "            inputShape = (imgRows, imgCols, numChannels)\n",
    "\n",
    "        # initialize the model\n",
    "        model = models.Sequential()\n",
    "\n",
    "        # define the first set of CONV => ACTIVATION => POOL layers\n",
    "        model.add(layers.Conv2D(filters=6, kernel_size=(5, 5), strides=(1, 1),\n",
    "                padding=\"valid\", activation=tf.nn.tanh, input_shape=inputShape))\n",
    "        model.add(layers.AveragePooling2D(pool_size=(2, 2), strides=(2, 2)))\n",
    "\n",
    "        # define the second set of CONV => ACTIVATION => POOL layers\n",
    "        model.add(layers.Conv2D(filters=16, kernel_size=(5, 5), strides=(1, 1),\n",
    "                padding=\"valid\", activation=tf.nn.tanh))\n",
    "        model.add(layers.AveragePooling2D(pool_size=(2, 2), strides=(2, 2)))\n",
    "\n",
    "        # flatten the convolution volume to fully connected layers\n",
    "        model.add(layers.Flatten())\n",
    "\n",
    "        # define the first FC => ACTIVATION layers\n",
    "        model.add(layers.Dense(units=120, activation=tf.nn.tanh))\n",
    "\n",
    "        # define the second FC => ACTIVATION layers\n",
    "        model.add(layers.Dense(units=84, activation=tf.nn.tanh))\n",
    "\n",
    "        # lastly, define the soft-max classifier\n",
    "        model.add(layers.Dense(units=numClasses, activation=tf.nn.softmax))\n",
    "\n",
    "        # if a weights path is supplied (inicating that the model was\n",
    "        # pre-trained), then load the weights\n",
    "        if weightsPath is not None:\n",
    "            model.load_weights(weightsPath)\n",
    "\n",
    "        # return the constructed network architecture\n",
    "        return model"
   ]
  },
  {
   "cell_type": "markdown",
   "metadata": {},
   "source": [
    "### Compile Model"
   ]
  },
  {
   "cell_type": "code",
   "execution_count": 48,
   "metadata": {},
   "outputs": [
    {
     "name": "stdout",
     "output_type": "stream",
     "text": [
      "[INFO] compiling model...\n",
      "Model: \"sequential\"\n",
      "_________________________________________________________________\n",
      "Layer (type)                 Output Shape              Param #   \n",
      "=================================================================\n",
      "conv2d (Conv2D)              (None, 28, 28, 6)         156       \n",
      "_________________________________________________________________\n",
      "average_pooling2d (AveragePo (None, 14, 14, 6)         0         \n",
      "_________________________________________________________________\n",
      "conv2d_1 (Conv2D)            (None, 10, 10, 16)        2416      \n",
      "_________________________________________________________________\n",
      "average_pooling2d_1 (Average (None, 5, 5, 16)          0         \n",
      "_________________________________________________________________\n",
      "flatten (Flatten)            (None, 400)               0         \n",
      "_________________________________________________________________\n",
      "dense (Dense)                (None, 120)               48120     \n",
      "_________________________________________________________________\n",
      "dense_1 (Dense)              (None, 84)                10164     \n",
      "_________________________________________________________________\n",
      "dense_2 (Dense)              (None, 10)                850       \n",
      "=================================================================\n",
      "Total params: 61,706\n",
      "Trainable params: 61,706\n",
      "Non-trainable params: 0\n",
      "_________________________________________________________________\n"
     ]
    }
   ],
   "source": [
    "# initialize the model\n",
    "print(\"[INFO] compiling model...\")\n",
    "model = LeNet.init(numChannels=image_channels,\n",
    "                    imgRows=image_height, imgCols=image_width,\n",
    "                    numClasses=num_classes,\n",
    "                    weightsPath=None)\n",
    "\n",
    "# compile the model\n",
    "model.compile(optimizer=tf.keras.optimizers.SGD(lr=0.01),  # Stochastic Gradient Descent\n",
    "        loss=\"sparse_categorical_crossentropy\",\n",
    "        metrics=[\"accuracy\"])\n",
    "\n",
    "# print model summary\n",
    "model.summary()"
   ]
  },
  {
   "cell_type": "markdown",
   "metadata": {},
   "source": [
    "### Train Model"
   ]
  },
  {
   "cell_type": "code",
   "execution_count": 50,
   "metadata": {},
   "outputs": [
    {
     "name": "stdout",
     "output_type": "stream",
     "text": [
      "[INFO] training...\n",
      "Epoch 1/200\n",
      "469/469 [==============================] - 13s 28ms/step - loss: 0.9342 - accuracy: 0.6914 - val_loss: 0.6709 - val_accuracy: 0.7597\n",
      "Epoch 2/200\n",
      "469/469 [==============================] - 13s 27ms/step - loss: 0.5935 - accuracy: 0.7846 - val_loss: 0.5640 - val_accuracy: 0.7917\n",
      "Epoch 3/200\n",
      "469/469 [==============================] - 12s 26ms/step - loss: 0.5177 - accuracy: 0.8137 - val_loss: 0.5185 - val_accuracy: 0.8070\n",
      "Epoch 4/200\n",
      "469/469 [==============================] - 13s 27ms/step - loss: 0.4708 - accuracy: 0.8329 - val_loss: 0.4855 - val_accuracy: 0.8214\n",
      "Epoch 5/200\n",
      "469/469 [==============================] - 13s 28ms/step - loss: 0.4418 - accuracy: 0.8426 - val_loss: 0.4488 - val_accuracy: 0.8361\n",
      "Epoch 6/200\n",
      "469/469 [==============================] - 13s 29ms/step - loss: 0.4178 - accuracy: 0.8510 - val_loss: 0.4649 - val_accuracy: 0.8306\n",
      "Epoch 7/200\n",
      "469/469 [==============================] - 14s 29ms/step - loss: 0.3998 - accuracy: 0.8573 - val_loss: 0.4220 - val_accuracy: 0.8461\n",
      "Epoch 8/200\n",
      "469/469 [==============================] - 14s 30ms/step - loss: 0.3877 - accuracy: 0.8611 - val_loss: 0.3952 - val_accuracy: 0.8581\n",
      "Epoch 9/200\n",
      "469/469 [==============================] - 12s 26ms/step - loss: 0.3776 - accuracy: 0.8647 - val_loss: 0.3878 - val_accuracy: 0.8617\n",
      "Epoch 10/200\n",
      "469/469 [==============================] - 13s 29ms/step - loss: 0.3653 - accuracy: 0.8690 - val_loss: 0.3843 - val_accuracy: 0.8620\n",
      "Epoch 11/200\n",
      "469/469 [==============================] - 11s 23ms/step - loss: 0.3583 - accuracy: 0.8712 - val_loss: 0.3788 - val_accuracy: 0.8628\n",
      "Epoch 12/200\n",
      "469/469 [==============================] - 11s 23ms/step - loss: 0.3508 - accuracy: 0.8737 - val_loss: 0.3681 - val_accuracy: 0.8687\n",
      "Epoch 13/200\n",
      "469/469 [==============================] - 11s 23ms/step - loss: 0.3451 - accuracy: 0.8753 - val_loss: 0.3627 - val_accuracy: 0.8673\n",
      "Epoch 14/200\n",
      "469/469 [==============================] - 13s 27ms/step - loss: 0.3411 - accuracy: 0.8773 - val_loss: 0.3654 - val_accuracy: 0.8678\n",
      "Epoch 15/200\n",
      "469/469 [==============================] - 12s 26ms/step - loss: 0.3344 - accuracy: 0.8792 - val_loss: 0.3565 - val_accuracy: 0.8712\n",
      "Epoch 16/200\n",
      "469/469 [==============================] - 13s 27ms/step - loss: 0.3317 - accuracy: 0.8801 - val_loss: 0.3495 - val_accuracy: 0.8719\n",
      "Epoch 17/200\n",
      "469/469 [==============================] - 11s 24ms/step - loss: 0.3232 - accuracy: 0.8828 - val_loss: 0.3466 - val_accuracy: 0.8734\n",
      "Epoch 18/200\n",
      "469/469 [==============================] - 15s 32ms/step - loss: 0.3192 - accuracy: 0.8858 - val_loss: 0.3450 - val_accuracy: 0.8758\n",
      "Epoch 19/200\n",
      "469/469 [==============================] - 18s 38ms/step - loss: 0.3142 - accuracy: 0.8874 - val_loss: 0.3339 - val_accuracy: 0.8794\n",
      "Epoch 20/200\n",
      "469/469 [==============================] - 20s 44ms/step - loss: 0.3116 - accuracy: 0.8880 - val_loss: 0.3356 - val_accuracy: 0.8764\n",
      "Epoch 21/200\n",
      "469/469 [==============================] - 20s 43ms/step - loss: 0.3074 - accuracy: 0.8888 - val_loss: 0.4333 - val_accuracy: 0.8375\n",
      "Epoch 22/200\n",
      "469/469 [==============================] - 20s 43ms/step - loss: 0.3047 - accuracy: 0.8899 - val_loss: 0.3223 - val_accuracy: 0.8838\n",
      "Epoch 23/200\n",
      "469/469 [==============================] - 18s 38ms/step - loss: 0.3016 - accuracy: 0.8911 - val_loss: 0.3282 - val_accuracy: 0.8813\n",
      "Epoch 24/200\n",
      "469/469 [==============================] - 11s 23ms/step - loss: 0.2992 - accuracy: 0.8930 - val_loss: 0.3202 - val_accuracy: 0.8837\n",
      "Epoch 25/200\n",
      "469/469 [==============================] - 11s 23ms/step - loss: 0.2965 - accuracy: 0.8929 - val_loss: 0.3184 - val_accuracy: 0.8857\n",
      "Epoch 26/200\n",
      "469/469 [==============================] - 11s 23ms/step - loss: 0.2919 - accuracy: 0.8947 - val_loss: 0.3386 - val_accuracy: 0.8747\n",
      "Epoch 27/200\n",
      "469/469 [==============================] - 11s 23ms/step - loss: 0.2912 - accuracy: 0.8954 - val_loss: 0.3278 - val_accuracy: 0.8798\n",
      "Epoch 28/200\n",
      "469/469 [==============================] - 11s 23ms/step - loss: 0.2880 - accuracy: 0.8948 - val_loss: 0.3207 - val_accuracy: 0.8853\n",
      "Epoch 29/200\n",
      "469/469 [==============================] - 17s 36ms/step - loss: 0.2878 - accuracy: 0.8964 - val_loss: 0.3229 - val_accuracy: 0.8849\n",
      "Epoch 30/200\n",
      "469/469 [==============================] - 32s 69ms/step - loss: 0.2839 - accuracy: 0.8969 - val_loss: 0.3118 - val_accuracy: 0.8854\n",
      "Epoch 31/200\n",
      "469/469 [==============================] - 17s 35ms/step - loss: 0.2801 - accuracy: 0.8991 - val_loss: 0.3071 - val_accuracy: 0.8879\n",
      "Epoch 32/200\n",
      "469/469 [==============================] - 13s 29ms/step - loss: 0.2801 - accuracy: 0.8996 - val_loss: 0.3101 - val_accuracy: 0.8854\n",
      "Epoch 33/200\n",
      "469/469 [==============================] - 596s 1s/step - loss: 0.2765 - accuracy: 0.9000 - val_loss: 0.3411 - val_accuracy: 0.8742A: 2:\n",
      "Epoch 34/200\n",
      "469/469 [==============================] - 11s 24ms/step - loss: 0.2753 - accuracy: 0.9007 - val_loss: 0.3055 - val_accuracy: 0.8888\n",
      "Epoch 35/200\n",
      "469/469 [==============================] - 11s 24ms/step - loss: 0.2742 - accuracy: 0.9005 - val_loss: 0.3016 - val_accuracy: 0.8883\n",
      "Epoch 36/200\n",
      "469/469 [==============================] - 11s 24ms/step - loss: 0.2722 - accuracy: 0.9026 - val_loss: 0.2986 - val_accuracy: 0.8941\n",
      "Epoch 37/200\n",
      "469/469 [==============================] - 11s 24ms/step - loss: 0.2698 - accuracy: 0.9029 - val_loss: 0.2969 - val_accuracy: 0.8930\n",
      "Epoch 38/200\n",
      "469/469 [==============================] - 11s 24ms/step - loss: 0.2690 - accuracy: 0.9027 - val_loss: 0.3022 - val_accuracy: 0.8885\n",
      "Epoch 39/200\n",
      "469/469 [==============================] - 11s 24ms/step - loss: 0.2667 - accuracy: 0.9039 - val_loss: 0.2983 - val_accuracy: 0.8932\n",
      "Epoch 40/200\n",
      "469/469 [==============================] - 11s 24ms/step - loss: 0.2644 - accuracy: 0.9048 - val_loss: 0.2964 - val_accuracy: 0.8923\n",
      "Epoch 41/200\n",
      "469/469 [==============================] - 11s 24ms/step - loss: 0.2615 - accuracy: 0.9050 - val_loss: 0.2954 - val_accuracy: 0.8931\n",
      "Epoch 42/200\n",
      "469/469 [==============================] - 11s 24ms/step - loss: 0.2602 - accuracy: 0.9063 - val_loss: 0.2982 - val_accuracy: 0.8936\n",
      "Epoch 43/200\n",
      "469/469 [==============================] - 11s 24ms/step - loss: 0.2598 - accuracy: 0.9061 - val_loss: 0.2950 - val_accuracy: 0.8914\n",
      "Epoch 44/200\n",
      "469/469 [==============================] - 11s 24ms/step - loss: 0.2580 - accuracy: 0.9074 - val_loss: 0.2987 - val_accuracy: 0.8941\n",
      "Epoch 45/200\n",
      "469/469 [==============================] - 12s 25ms/step - loss: 0.2564 - accuracy: 0.9073 - val_loss: 0.2897 - val_accuracy: 0.8961\n",
      "Epoch 46/200\n",
      "469/469 [==============================] - 11s 24ms/step - loss: 0.2543 - accuracy: 0.9080 - val_loss: 0.2888 - val_accuracy: 0.8935\n",
      "Epoch 47/200\n",
      "469/469 [==============================] - 12s 25ms/step - loss: 0.2539 - accuracy: 0.9079 - val_loss: 0.2870 - val_accuracy: 0.8939\n",
      "Epoch 48/200\n",
      "469/469 [==============================] - 11s 25ms/step - loss: 0.2529 - accuracy: 0.9086 - val_loss: 0.2912 - val_accuracy: 0.8941\n",
      "Epoch 49/200\n",
      "469/469 [==============================] - 11s 24ms/step - loss: 0.2518 - accuracy: 0.9082 - val_loss: 0.2869 - val_accuracy: 0.8936\n",
      "Epoch 50/200\n",
      "469/469 [==============================] - 11s 24ms/step - loss: 0.2496 - accuracy: 0.9093 - val_loss: 0.2828 - val_accuracy: 0.8959\n",
      "Epoch 51/200\n",
      "469/469 [==============================] - 11s 24ms/step - loss: 0.2504 - accuracy: 0.9096 - val_loss: 0.2857 - val_accuracy: 0.8960\n",
      "Epoch 52/200\n",
      "469/469 [==============================] - 12s 25ms/step - loss: 0.2470 - accuracy: 0.9106 - val_loss: 0.2827 - val_accuracy: 0.8985\n",
      "Epoch 53/200\n",
      "469/469 [==============================] - 11s 24ms/step - loss: 0.2473 - accuracy: 0.9100 - val_loss: 0.2817 - val_accuracy: 0.8954\n",
      "Epoch 54/200\n",
      "469/469 [==============================] - 12s 25ms/step - loss: 0.2455 - accuracy: 0.9115 - val_loss: 0.2890 - val_accuracy: 0.8959\n",
      "Epoch 55/200\n",
      "469/469 [==============================] - 12s 25ms/step - loss: 0.2447 - accuracy: 0.9120 - val_loss: 0.2832 - val_accuracy: 0.8954\n",
      "Epoch 56/200\n",
      "469/469 [==============================] - 12s 25ms/step - loss: 0.2428 - accuracy: 0.9122 - val_loss: 0.2815 - val_accuracy: 0.8992\n",
      "Epoch 57/200\n",
      "469/469 [==============================] - 11s 24ms/step - loss: 0.2401 - accuracy: 0.9140 - val_loss: 0.2902 - val_accuracy: 0.8941\n",
      "Epoch 58/200\n",
      "469/469 [==============================] - 12s 25ms/step - loss: 0.2407 - accuracy: 0.9132 - val_loss: 0.2784 - val_accuracy: 0.8985\n",
      "Epoch 59/200\n",
      "469/469 [==============================] - 12s 25ms/step - loss: 0.2393 - accuracy: 0.9134 - val_loss: 0.2769 - val_accuracy: 0.8991\n",
      "Epoch 60/200\n",
      "469/469 [==============================] - 12s 25ms/step - loss: 0.2387 - accuracy: 0.9135 - val_loss: 0.2801 - val_accuracy: 0.8975\n",
      "Epoch 61/200\n",
      "469/469 [==============================] - 11s 24ms/step - loss: 0.2369 - accuracy: 0.9146 - val_loss: 0.2759 - val_accuracy: 0.8991\n",
      "Epoch 62/200\n",
      "469/469 [==============================] - 12s 25ms/step - loss: 0.2355 - accuracy: 0.9147 - val_loss: 0.2756 - val_accuracy: 0.9010\n",
      "Epoch 63/200\n",
      "469/469 [==============================] - 12s 25ms/step - loss: 0.2355 - accuracy: 0.9138 - val_loss: 0.2874 - val_accuracy: 0.8952\n",
      "Epoch 64/200\n",
      "469/469 [==============================] - 11s 25ms/step - loss: 0.2349 - accuracy: 0.9152 - val_loss: 0.2735 - val_accuracy: 0.9015\n",
      "Epoch 65/200\n",
      "469/469 [==============================] - 12s 25ms/step - loss: 0.2324 - accuracy: 0.9156 - val_loss: 0.2913 - val_accuracy: 0.8908\n",
      "Epoch 66/200\n",
      "469/469 [==============================] - 12s 25ms/step - loss: 0.2320 - accuracy: 0.9159 - val_loss: 0.2737 - val_accuracy: 0.9004\n",
      "Epoch 67/200\n",
      "469/469 [==============================] - 12s 25ms/step - loss: 0.2307 - accuracy: 0.9167 - val_loss: 0.2737 - val_accuracy: 0.9008\n",
      "Epoch 68/200\n",
      "469/469 [==============================] - 12s 25ms/step - loss: 0.2300 - accuracy: 0.9163 - val_loss: 0.2923 - val_accuracy: 0.8898\n",
      "Epoch 69/200\n",
      "469/469 [==============================] - 12s 25ms/step - loss: 0.2290 - accuracy: 0.9166 - val_loss: 0.2801 - val_accuracy: 0.8962\n",
      "Epoch 70/200\n",
      "469/469 [==============================] - 12s 25ms/step - loss: 0.2279 - accuracy: 0.9175 - val_loss: 0.2760 - val_accuracy: 0.8993\n",
      "Epoch 71/200\n",
      "469/469 [==============================] - 12s 25ms/step - loss: 0.2275 - accuracy: 0.9179 - val_loss: 0.2705 - val_accuracy: 0.8992\n",
      "Epoch 72/200\n",
      "469/469 [==============================] - 12s 25ms/step - loss: 0.2260 - accuracy: 0.9178 - val_loss: 0.2686 - val_accuracy: 0.9008\n",
      "Epoch 73/200\n",
      "469/469 [==============================] - 12s 25ms/step - loss: 0.2244 - accuracy: 0.9186 - val_loss: 0.2694 - val_accuracy: 0.9008\n",
      "Epoch 74/200\n",
      "469/469 [==============================] - 12s 25ms/step - loss: 0.2241 - accuracy: 0.9189 - val_loss: 0.2717 - val_accuracy: 0.9015\n",
      "Epoch 75/200\n",
      "469/469 [==============================] - 12s 25ms/step - loss: 0.2236 - accuracy: 0.9187 - val_loss: 0.2660 - val_accuracy: 0.9046\n",
      "Epoch 76/200\n",
      "469/469 [==============================] - 12s 25ms/step - loss: 0.2223 - accuracy: 0.9187 - val_loss: 0.2677 - val_accuracy: 0.9032\n",
      "Epoch 77/200\n",
      "469/469 [==============================] - 11s 24ms/step - loss: 0.2205 - accuracy: 0.9189 - val_loss: 0.2666 - val_accuracy: 0.9017\n",
      "Epoch 78/200\n",
      "469/469 [==============================] - 12s 25ms/step - loss: 0.2193 - accuracy: 0.9202 - val_loss: 0.2688 - val_accuracy: 0.9010\n",
      "Epoch 79/200\n",
      "469/469 [==============================] - 12s 25ms/step - loss: 0.2194 - accuracy: 0.9201 - val_loss: 0.2750 - val_accuracy: 0.8988\n",
      "Epoch 80/200\n",
      "469/469 [==============================] - 12s 25ms/step - loss: 0.2189 - accuracy: 0.9200 - val_loss: 0.2636 - val_accuracy: 0.9044\n",
      "Epoch 81/200\n",
      "469/469 [==============================] - 12s 25ms/step - loss: 0.2185 - accuracy: 0.9202 - val_loss: 0.2664 - val_accuracy: 0.9039\n",
      "Epoch 82/200\n",
      "469/469 [==============================] - 12s 25ms/step - loss: 0.2175 - accuracy: 0.9208 - val_loss: 0.2655 - val_accuracy: 0.9033\n",
      "Epoch 83/200\n",
      "469/469 [==============================] - 12s 25ms/step - loss: 0.2171 - accuracy: 0.9220 - val_loss: 0.2646 - val_accuracy: 0.9031\n",
      "Epoch 84/200\n",
      "469/469 [==============================] - 12s 25ms/step - loss: 0.2148 - accuracy: 0.9215 - val_loss: 0.2605 - val_accuracy: 0.9060\n",
      "Epoch 85/200\n",
      "469/469 [==============================] - 12s 25ms/step - loss: 0.2145 - accuracy: 0.9223 - val_loss: 0.2663 - val_accuracy: 0.9021\n",
      "Epoch 86/200\n",
      "469/469 [==============================] - 12s 25ms/step - loss: 0.2135 - accuracy: 0.9219 - val_loss: 0.2728 - val_accuracy: 0.8990\n",
      "Epoch 87/200\n",
      "469/469 [==============================] - 12s 25ms/step - loss: 0.2133 - accuracy: 0.9235 - val_loss: 0.2631 - val_accuracy: 0.9042\n",
      "Epoch 88/200\n",
      "469/469 [==============================] - 14s 30ms/step - loss: 0.2111 - accuracy: 0.9242 - val_loss: 0.2660 - val_accuracy: 0.9048\n",
      "Epoch 89/200\n",
      "469/469 [==============================] - 14s 31ms/step - loss: 0.2119 - accuracy: 0.9232 - val_loss: 0.2636 - val_accuracy: 0.9044\n",
      "Epoch 90/200\n",
      "469/469 [==============================] - 15s 31ms/step - loss: 0.2104 - accuracy: 0.9239 - val_loss: 0.2605 - val_accuracy: 0.9036\n",
      "Epoch 91/200\n",
      "469/469 [==============================] - 15s 31ms/step - loss: 0.2087 - accuracy: 0.9231 - val_loss: 0.2610 - val_accuracy: 0.9057\n",
      "Epoch 92/200\n",
      "469/469 [==============================] - 15s 31ms/step - loss: 0.2084 - accuracy: 0.9247 - val_loss: 0.2593 - val_accuracy: 0.9061\n",
      "Epoch 93/200\n",
      "469/469 [==============================] - 15s 31ms/step - loss: 0.2078 - accuracy: 0.9238 - val_loss: 0.2624 - val_accuracy: 0.9048\n",
      "Epoch 94/200\n",
      "469/469 [==============================] - 15s 32ms/step - loss: 0.2055 - accuracy: 0.9262 - val_loss: 0.2605 - val_accuracy: 0.9079\n",
      "Epoch 95/200\n",
      "469/469 [==============================] - 15s 32ms/step - loss: 0.2067 - accuracy: 0.9252 - val_loss: 0.2603 - val_accuracy: 0.9037\n",
      "Epoch 96/200\n",
      "469/469 [==============================] - 15s 32ms/step - loss: 0.2057 - accuracy: 0.9250 - val_loss: 0.2650 - val_accuracy: 0.9047\n",
      "Epoch 97/200\n",
      "469/469 [==============================] - 15s 32ms/step - loss: 0.2055 - accuracy: 0.9255 - val_loss: 0.2688 - val_accuracy: 0.9018\n",
      "Epoch 98/200\n",
      "469/469 [==============================] - 15s 32ms/step - loss: 0.2050 - accuracy: 0.9257 - val_loss: 0.2594 - val_accuracy: 0.9046\n",
      "Epoch 99/200\n",
      "469/469 [==============================] - 13s 28ms/step - loss: 0.2037 - accuracy: 0.9250 - val_loss: 0.2578 - val_accuracy: 0.9055\n",
      "Epoch 100/200\n",
      "469/469 [==============================] - 12s 26ms/step - loss: 0.2023 - accuracy: 0.9267 - val_loss: 0.2697 - val_accuracy: 0.9012\n",
      "Epoch 101/200\n",
      "469/469 [==============================] - 12s 25ms/step - loss: 0.2016 - accuracy: 0.9268 - val_loss: 0.2703 - val_accuracy: 0.8990\n",
      "Epoch 102/200\n",
      "469/469 [==============================] - 12s 26ms/step - loss: 0.2022 - accuracy: 0.9263 - val_loss: 0.2576 - val_accuracy: 0.9069\n",
      "Epoch 103/200\n",
      "469/469 [==============================] - 15s 32ms/step - loss: 0.2007 - accuracy: 0.9268 - val_loss: 0.2644 - val_accuracy: 0.9054\n",
      "Epoch 104/200\n",
      "469/469 [==============================] - 15s 32ms/step - loss: 0.2004 - accuracy: 0.9271 - val_loss: 0.2557 - val_accuracy: 0.9063\n",
      "Epoch 105/200\n",
      "469/469 [==============================] - 15s 33ms/step - loss: 0.1973 - accuracy: 0.9280 - val_loss: 0.2678 - val_accuracy: 0.9016\n",
      "Epoch 106/200\n",
      "469/469 [==============================] - 15s 33ms/step - loss: 0.1992 - accuracy: 0.9278 - val_loss: 0.2605 - val_accuracy: 0.9067\n",
      "Epoch 107/200\n",
      "469/469 [==============================] - 15s 33ms/step - loss: 0.1982 - accuracy: 0.9277 - val_loss: 0.2637 - val_accuracy: 0.9038\n",
      "Epoch 108/200\n",
      "469/469 [==============================] - 15s 32ms/step - loss: 0.1977 - accuracy: 0.9275 - val_loss: 0.2649 - val_accuracy: 0.9074\n",
      "Epoch 109/200\n",
      "469/469 [==============================] - 15s 32ms/step - loss: 0.1965 - accuracy: 0.9285 - val_loss: 0.2595 - val_accuracy: 0.9079\n",
      "Epoch 110/200\n",
      "469/469 [==============================] - 15s 33ms/step - loss: 0.1951 - accuracy: 0.9299 - val_loss: 0.2562 - val_accuracy: 0.9073\n",
      "Epoch 111/200\n",
      "469/469 [==============================] - 15s 33ms/step - loss: 0.1947 - accuracy: 0.9298 - val_loss: 0.2599 - val_accuracy: 0.9064\n",
      "Epoch 112/200\n",
      "469/469 [==============================] - 15s 33ms/step - loss: 0.1937 - accuracy: 0.9296 - val_loss: 0.2587 - val_accuracy: 0.9083\n",
      "Epoch 113/200\n",
      "469/469 [==============================] - 15s 33ms/step - loss: 0.1936 - accuracy: 0.9291 - val_loss: 0.2573 - val_accuracy: 0.9075\n",
      "Epoch 114/200\n",
      "469/469 [==============================] - 15s 32ms/step - loss: 0.1934 - accuracy: 0.9301 - val_loss: 0.2588 - val_accuracy: 0.9048\n",
      "Epoch 115/200\n",
      "469/469 [==============================] - 15s 32ms/step - loss: 0.1924 - accuracy: 0.9294 - val_loss: 0.2623 - val_accuracy: 0.9032\n",
      "Epoch 116/200\n",
      "469/469 [==============================] - 15s 33ms/step - loss: 0.1916 - accuracy: 0.9309 - val_loss: 0.2529 - val_accuracy: 0.9088\n",
      "Epoch 117/200\n",
      "469/469 [==============================] - 15s 33ms/step - loss: 0.1917 - accuracy: 0.9303 - val_loss: 0.2560 - val_accuracy: 0.9071\n",
      "Epoch 118/200\n",
      "469/469 [==============================] - 15s 33ms/step - loss: 0.1915 - accuracy: 0.9307 - val_loss: 0.2544 - val_accuracy: 0.9089\n",
      "Epoch 119/200\n",
      "469/469 [==============================] - 15s 33ms/step - loss: 0.1898 - accuracy: 0.9309 - val_loss: 0.2557 - val_accuracy: 0.9087\n",
      "Epoch 120/200\n",
      "469/469 [==============================] - 15s 33ms/step - loss: 0.1887 - accuracy: 0.9312 - val_loss: 0.2546 - val_accuracy: 0.9082\n",
      "Epoch 121/200\n",
      "469/469 [==============================] - 15s 33ms/step - loss: 0.1880 - accuracy: 0.9325 - val_loss: 0.2540 - val_accuracy: 0.9087\n",
      "Epoch 122/200\n",
      "469/469 [==============================] - 15s 33ms/step - loss: 0.1868 - accuracy: 0.9327 - val_loss: 0.2591 - val_accuracy: 0.9088\n",
      "Epoch 123/200\n",
      "469/469 [==============================] - 15s 33ms/step - loss: 0.1865 - accuracy: 0.9325 - val_loss: 0.2548 - val_accuracy: 0.9078\n",
      "Epoch 124/200\n",
      "469/469 [==============================] - 16s 33ms/step - loss: 0.1860 - accuracy: 0.9326 - val_loss: 0.2541 - val_accuracy: 0.9072\n",
      "Epoch 125/200\n",
      "469/469 [==============================] - 15s 32ms/step - loss: 0.1871 - accuracy: 0.9320 - val_loss: 0.2562 - val_accuracy: 0.9083\n",
      "Epoch 126/200\n",
      "469/469 [==============================] - 15s 32ms/step - loss: 0.1859 - accuracy: 0.9330 - val_loss: 0.2609 - val_accuracy: 0.9064\n",
      "Epoch 127/200\n",
      "469/469 [==============================] - 15s 32ms/step - loss: 0.1840 - accuracy: 0.9335 - val_loss: 0.2582 - val_accuracy: 0.9068\n",
      "Epoch 128/200\n",
      "469/469 [==============================] - 15s 32ms/step - loss: 0.1847 - accuracy: 0.9330 - val_loss: 0.2550 - val_accuracy: 0.9086\n",
      "Epoch 129/200\n",
      "469/469 [==============================] - 15s 32ms/step - loss: 0.1831 - accuracy: 0.9335 - val_loss: 0.2546 - val_accuracy: 0.9104\n",
      "Epoch 130/200\n",
      "469/469 [==============================] - 15s 32ms/step - loss: 0.1829 - accuracy: 0.9333 - val_loss: 0.2553 - val_accuracy: 0.9085\n",
      "Epoch 131/200\n",
      "469/469 [==============================] - 15s 33ms/step - loss: 0.1816 - accuracy: 0.9338 - val_loss: 0.2524 - val_accuracy: 0.9090\n",
      "Epoch 132/200\n",
      "469/469 [==============================] - 15s 33ms/step - loss: 0.1811 - accuracy: 0.9342 - val_loss: 0.2533 - val_accuracy: 0.9115\n",
      "Epoch 133/200\n",
      "469/469 [==============================] - 15s 33ms/step - loss: 0.1815 - accuracy: 0.9341 - val_loss: 0.2528 - val_accuracy: 0.9112\n",
      "Epoch 134/200\n",
      "469/469 [==============================] - 16s 33ms/step - loss: 0.1803 - accuracy: 0.9336 - val_loss: 0.2628 - val_accuracy: 0.9046\n",
      "Epoch 135/200\n",
      "469/469 [==============================] - 16s 33ms/step - loss: 0.1784 - accuracy: 0.9349 - val_loss: 0.2574 - val_accuracy: 0.9090\n",
      "Epoch 136/200\n",
      "469/469 [==============================] - 16s 33ms/step - loss: 0.1786 - accuracy: 0.9351 - val_loss: 0.2533 - val_accuracy: 0.9097\n",
      "Epoch 137/200\n",
      "469/469 [==============================] - 15s 32ms/step - loss: 0.1778 - accuracy: 0.9348 - val_loss: 0.2528 - val_accuracy: 0.9099\n",
      "Epoch 138/200\n",
      "469/469 [==============================] - 15s 33ms/step - loss: 0.1771 - accuracy: 0.9359 - val_loss: 0.2572 - val_accuracy: 0.9062\n",
      "Epoch 139/200\n",
      "469/469 [==============================] - 15s 33ms/step - loss: 0.1760 - accuracy: 0.9362 - val_loss: 0.2547 - val_accuracy: 0.9097\n",
      "Epoch 140/200\n",
      "469/469 [==============================] - 15s 33ms/step - loss: 0.1763 - accuracy: 0.9365 - val_loss: 0.2547 - val_accuracy: 0.9095\n",
      "Epoch 141/200\n",
      "469/469 [==============================] - 15s 33ms/step - loss: 0.1758 - accuracy: 0.9370 - val_loss: 0.2566 - val_accuracy: 0.9073\n",
      "Epoch 142/200\n",
      "469/469 [==============================] - 15s 33ms/step - loss: 0.1749 - accuracy: 0.9362 - val_loss: 0.2508 - val_accuracy: 0.9100\n",
      "Epoch 143/200\n",
      "469/469 [==============================] - 15s 33ms/step - loss: 0.1751 - accuracy: 0.9368 - val_loss: 0.2594 - val_accuracy: 0.9079\n",
      "Epoch 144/200\n",
      "469/469 [==============================] - 15s 33ms/step - loss: 0.1773 - accuracy: 0.9353 - val_loss: 0.2544 - val_accuracy: 0.9126\n",
      "Epoch 145/200\n",
      "469/469 [==============================] - 15s 33ms/step - loss: 0.1741 - accuracy: 0.9370 - val_loss: 0.2579 - val_accuracy: 0.9088\n",
      "Epoch 146/200\n",
      "469/469 [==============================] - 16s 33ms/step - loss: 0.1719 - accuracy: 0.9381 - val_loss: 0.2542 - val_accuracy: 0.9102\n",
      "Epoch 147/200\n",
      "469/469 [==============================] - 16s 33ms/step - loss: 0.1720 - accuracy: 0.9377 - val_loss: 0.2590 - val_accuracy: 0.9086\n",
      "Epoch 148/200\n",
      "469/469 [==============================] - 15s 33ms/step - loss: 0.1711 - accuracy: 0.9380 - val_loss: 0.2659 - val_accuracy: 0.9054\n",
      "Epoch 149/200\n",
      "469/469 [==============================] - 16s 34ms/step - loss: 0.1701 - accuracy: 0.9386 - val_loss: 0.2510 - val_accuracy: 0.9113\n",
      "Epoch 150/200\n",
      "469/469 [==============================] - 16s 34ms/step - loss: 0.1695 - accuracy: 0.9389 - val_loss: 0.2525 - val_accuracy: 0.9111\n",
      "Epoch 151/200\n",
      "469/469 [==============================] - 16s 34ms/step - loss: 0.1694 - accuracy: 0.9381 - val_loss: 0.2688 - val_accuracy: 0.9010\n",
      "Epoch 152/200\n",
      "469/469 [==============================] - 16s 34ms/step - loss: 0.1688 - accuracy: 0.9392 - val_loss: 0.2560 - val_accuracy: 0.9088\n",
      "Epoch 153/200\n",
      "469/469 [==============================] - 16s 34ms/step - loss: 0.1691 - accuracy: 0.9391 - val_loss: 0.2537 - val_accuracy: 0.9091\n",
      "Epoch 154/200\n",
      "469/469 [==============================] - 16s 34ms/step - loss: 0.1675 - accuracy: 0.9401 - val_loss: 0.2540 - val_accuracy: 0.9097\n",
      "Epoch 155/200\n",
      "469/469 [==============================] - 16s 34ms/step - loss: 0.1669 - accuracy: 0.9388 - val_loss: 0.2566 - val_accuracy: 0.9085\n",
      "Epoch 156/200\n",
      "469/469 [==============================] - 16s 34ms/step - loss: 0.1666 - accuracy: 0.9393 - val_loss: 0.2547 - val_accuracy: 0.9101\n",
      "Epoch 157/200\n",
      "469/469 [==============================] - 15s 32ms/step - loss: 0.1656 - accuracy: 0.9399 - val_loss: 0.2565 - val_accuracy: 0.9091\n",
      "Epoch 158/200\n",
      "469/469 [==============================] - 15s 32ms/step - loss: 0.1654 - accuracy: 0.9394 - val_loss: 0.2575 - val_accuracy: 0.9089\n",
      "Epoch 159/200\n",
      "469/469 [==============================] - 15s 32ms/step - loss: 0.1654 - accuracy: 0.9409 - val_loss: 0.2505 - val_accuracy: 0.9113\n",
      "Epoch 160/200\n",
      "469/469 [==============================] - 15s 33ms/step - loss: 0.1651 - accuracy: 0.9402 - val_loss: 0.2528 - val_accuracy: 0.9093\n",
      "Epoch 161/200\n",
      "469/469 [==============================] - 15s 33ms/step - loss: 0.1629 - accuracy: 0.9413 - val_loss: 0.2515 - val_accuracy: 0.9120\n",
      "Epoch 162/200\n",
      "469/469 [==============================] - 16s 33ms/step - loss: 0.1638 - accuracy: 0.9410 - val_loss: 0.2597 - val_accuracy: 0.9069\n",
      "Epoch 163/200\n",
      "469/469 [==============================] - 15s 33ms/step - loss: 0.1625 - accuracy: 0.9414 - val_loss: 0.2542 - val_accuracy: 0.9120\n",
      "Epoch 164/200\n",
      "469/469 [==============================] - 16s 33ms/step - loss: 0.1614 - accuracy: 0.9414 - val_loss: 0.2587 - val_accuracy: 0.9097\n",
      "Epoch 165/200\n",
      "469/469 [==============================] - 15s 33ms/step - loss: 0.1619 - accuracy: 0.9416 - val_loss: 0.2551 - val_accuracy: 0.9114\n",
      "Epoch 166/200\n",
      "469/469 [==============================] - 16s 33ms/step - loss: 0.1633 - accuracy: 0.9401 - val_loss: 0.2591 - val_accuracy: 0.9063\n",
      "Epoch 167/200\n",
      "469/469 [==============================] - 16s 33ms/step - loss: 0.1606 - accuracy: 0.9418 - val_loss: 0.2608 - val_accuracy: 0.9059\n",
      "Epoch 168/200\n",
      "469/469 [==============================] - 16s 33ms/step - loss: 0.1616 - accuracy: 0.9414 - val_loss: 0.2537 - val_accuracy: 0.9111\n",
      "Epoch 169/200\n",
      "469/469 [==============================] - 16s 33ms/step - loss: 0.1596 - accuracy: 0.9424 - val_loss: 0.2568 - val_accuracy: 0.9096\n",
      "Epoch 170/200\n",
      "469/469 [==============================] - 16s 33ms/step - loss: 0.1588 - accuracy: 0.9424 - val_loss: 0.2502 - val_accuracy: 0.9127\n",
      "Epoch 171/200\n",
      "469/469 [==============================] - 16s 34ms/step - loss: 0.1579 - accuracy: 0.9430 - val_loss: 0.2494 - val_accuracy: 0.9125\n",
      "Epoch 172/200\n",
      "469/469 [==============================] - 16s 33ms/step - loss: 0.1569 - accuracy: 0.9428 - val_loss: 0.2608 - val_accuracy: 0.9088\n",
      "Epoch 173/200\n",
      "469/469 [==============================] - 15s 33ms/step - loss: 0.1573 - accuracy: 0.9427 - val_loss: 0.2544 - val_accuracy: 0.9095\n",
      "Epoch 174/200\n",
      "469/469 [==============================] - 15s 33ms/step - loss: 0.1568 - accuracy: 0.9444 - val_loss: 0.2544 - val_accuracy: 0.9115\n",
      "Epoch 175/200\n",
      "469/469 [==============================] - 15s 33ms/step - loss: 0.1559 - accuracy: 0.9432 - val_loss: 0.2536 - val_accuracy: 0.9123\n",
      "Epoch 176/200\n",
      "469/469 [==============================] - 15s 33ms/step - loss: 0.1568 - accuracy: 0.9433 - val_loss: 0.2525 - val_accuracy: 0.9096\n",
      "Epoch 177/200\n",
      "469/469 [==============================] - 16s 33ms/step - loss: 0.1554 - accuracy: 0.9438 - val_loss: 0.2537 - val_accuracy: 0.9114\n",
      "Epoch 178/200\n",
      "469/469 [==============================] - 16s 33ms/step - loss: 0.1544 - accuracy: 0.9441 - val_loss: 0.2549 - val_accuracy: 0.9117\n",
      "Epoch 179/200\n",
      "469/469 [==============================] - 16s 34ms/step - loss: 0.1535 - accuracy: 0.9440 - val_loss: 0.2562 - val_accuracy: 0.9090\n",
      "Epoch 180/200\n",
      "469/469 [==============================] - 16s 34ms/step - loss: 0.1547 - accuracy: 0.9439 - val_loss: 0.2584 - val_accuracy: 0.9095\n",
      "Epoch 181/200\n",
      "469/469 [==============================] - 16s 34ms/step - loss: 0.1515 - accuracy: 0.9453 - val_loss: 0.2645 - val_accuracy: 0.9076\n",
      "Epoch 182/200\n",
      "469/469 [==============================] - 17s 37ms/step - loss: 0.1518 - accuracy: 0.9454 - val_loss: 0.2610 - val_accuracy: 0.9090\n",
      "Epoch 183/200\n",
      "469/469 [==============================] - 16s 33ms/step - loss: 0.1509 - accuracy: 0.9454 - val_loss: 0.2528 - val_accuracy: 0.9108\n",
      "Epoch 184/200\n",
      "469/469 [==============================] - 15s 31ms/step - loss: 0.1513 - accuracy: 0.9456 - val_loss: 0.2576 - val_accuracy: 0.9109\n",
      "Epoch 185/200\n",
      "469/469 [==============================] - 15s 31ms/step - loss: 0.1498 - accuracy: 0.9458 - val_loss: 0.2550 - val_accuracy: 0.9098\n",
      "Epoch 186/200\n",
      "469/469 [==============================] - 15s 31ms/step - loss: 0.1503 - accuracy: 0.9453 - val_loss: 0.2563 - val_accuracy: 0.9130\n",
      "Epoch 187/200\n",
      "469/469 [==============================] - 15s 31ms/step - loss: 0.1505 - accuracy: 0.9456 - val_loss: 0.2559 - val_accuracy: 0.9119\n",
      "Epoch 188/200\n",
      "469/469 [==============================] - 15s 31ms/step - loss: 0.1487 - accuracy: 0.9467 - val_loss: 0.2560 - val_accuracy: 0.9100\n",
      "Epoch 189/200\n",
      "469/469 [==============================] - 15s 31ms/step - loss: 0.1475 - accuracy: 0.9471 - val_loss: 0.2713 - val_accuracy: 0.9072\n",
      "Epoch 190/200\n",
      "469/469 [==============================] - 15s 33ms/step - loss: 0.1483 - accuracy: 0.9464 - val_loss: 0.2567 - val_accuracy: 0.9102\n",
      "Epoch 191/200\n",
      "469/469 [==============================] - 14s 31ms/step - loss: 0.1471 - accuracy: 0.9470 - val_loss: 0.2563 - val_accuracy: 0.9090\n",
      "Epoch 192/200\n",
      "469/469 [==============================] - 12s 26ms/step - loss: 0.1473 - accuracy: 0.9477 - val_loss: 0.2572 - val_accuracy: 0.9115\n",
      "Epoch 193/200\n",
      "469/469 [==============================] - 12s 26ms/step - loss: 0.1465 - accuracy: 0.9467 - val_loss: 0.2550 - val_accuracy: 0.9103\n",
      "Epoch 194/200\n",
      "469/469 [==============================] - 12s 26ms/step - loss: 0.1462 - accuracy: 0.9483 - val_loss: 0.2590 - val_accuracy: 0.9108\n",
      "Epoch 195/200\n",
      "469/469 [==============================] - 12s 26ms/step - loss: 0.1448 - accuracy: 0.9476 - val_loss: 0.2589 - val_accuracy: 0.9099\n",
      "Epoch 196/200\n",
      "469/469 [==============================] - 12s 26ms/step - loss: 0.1429 - accuracy: 0.9495 - val_loss: 0.2568 - val_accuracy: 0.9098\n",
      "Epoch 197/200\n",
      "469/469 [==============================] - 12s 26ms/step - loss: 0.1438 - accuracy: 0.9484 - val_loss: 0.2603 - val_accuracy: 0.9092\n",
      "Epoch 198/200\n",
      "469/469 [==============================] - 12s 26ms/step - loss: 0.1435 - accuracy: 0.9489 - val_loss: 0.2608 - val_accuracy: 0.9095\n",
      "Epoch 199/200\n",
      "469/469 [==============================] - 12s 25ms/step - loss: 0.1430 - accuracy: 0.9478 - val_loss: 0.2565 - val_accuracy: 0.9109\n",
      "Epoch 200/200\n",
      "469/469 [==============================] - 12s 25ms/step - loss: 0.1427 - accuracy: 0.9488 - val_loss: 0.2616 - val_accuracy: 0.9104\n"
     ]
    }
   ],
   "source": [
    "# define callback function for training termination criteria\n",
    "#accuracy_cutoff = 0.99\n",
    "class myCallback(tf.keras.callbacks.Callback):\n",
    "  def on_epoch_end(self, epoch, logs=None):\n",
    "    if(logs.get('accuracy') > 0.95):\n",
    "      print(\"\\nReached 95% accuracy so cancelling training!\")\n",
    "      self.model.stop_training = True\n",
    "\n",
    "# initialize training config\n",
    "batch_size = 128\n",
    "epochs = 200\n",
    "\n",
    "# run training\n",
    "print(\"[INFO] training...\")\n",
    "history = model.fit(x=trainData, y=trainLabels, validation_data=(testData, testLabels),\n",
    "        batch_size=batch_size, epochs=epochs, verbose=1, callbacks=[myCallback()])"
   ]
  },
  {
   "cell_type": "code",
   "execution_count": 51,
   "metadata": {},
   "outputs": [
    {
     "data": {
      "text/plain": [
       "Text(0.5, 1.0, 'Training and validation loss')"
      ]
     },
     "execution_count": 51,
     "metadata": {},
     "output_type": "execute_result"
    },
    {
     "data": {
      "image/png": "[encoded data removed]",
      "text/plain": [
       "<Figure size 432x288 with 1 Axes>"
      ]
     },
     "metadata": {
      "needs_background": "light"
     },
     "output_type": "display_data"
    },
    {
     "data": {
      "image/png": "[encoded data removed]",
      "text/plain": [
       "<Figure size 432x288 with 1 Axes>"
      ]
     },
     "metadata": {
      "needs_background": "light"
     },
     "output_type": "display_data"
    }
   ],
   "source": [
    "%matplotlib inline\n",
    "import matplotlib.pyplot as plt\n",
    "\n",
    "# retrieve a list of list results on training and test data sets for each training epoch\n",
    "acc      = history.history['accuracy']\n",
    "val_acc  = history.history['val_accuracy']\n",
    "loss     = history.history['loss']\n",
    "val_loss = history.history['val_loss']\n",
    "\n",
    "epochs   = range(len(acc)) # get number of epochs\n",
    "\n",
    "# plot training and validation accuracy per epoch\n",
    "plt.plot(epochs, acc, label='train accuracy')\n",
    "plt.plot(epochs, val_acc, label='val accuracy')\n",
    "plt.xlabel('epochs')\n",
    "plt.ylabel('accuracy')\n",
    "plt.legend(loc=\"lower right\")\n",
    "plt.title('Training and validation accuracy')\n",
    "plt.figure()\n",
    "\n",
    "# plot training and validation loss per epoch\n",
    "plt.plot(epochs, loss, label='train loss')\n",
    "plt.plot(epochs, val_loss, label='val loss')\n",
    "plt.xlabel('epochs')\n",
    "plt.ylabel('loss')\n",
    "plt.legend(loc=\"upper right\")\n",
    "plt.title('Training and validation loss')"
   ]
  },
  {
   "cell_type": "code",
   "execution_count": 52,
   "metadata": {},
   "outputs": [
    {
     "name": "stdout",
     "output_type": "stream",
     "text": [
      "[INFO] evaluating...\n",
      "79/79 [==============================] - 1s 9ms/step - loss: 0.2616 - accuracy: 0.9104\n",
      "[INFO] accuracy: 91.04%\n"
     ]
    }
   ],
   "source": [
    "# show the accuracy on the testing set\n",
    "print(\"[INFO] evaluating...\")\n",
    "(loss, accuracy) = model.evaluate(testData, testLabels,\n",
    "                                  batch_size=batch_size, verbose=1)\n",
    "print(\"[INFO] accuracy: {:.2f}%\".format(accuracy * 100))"
   ]
  },
  {
   "cell_type": "code",
   "execution_count": 54,
   "metadata": {},
   "outputs": [],
   "source": [
    "model.save_weights(\"saved_weight.h5\", overwrite=True)"
   ]
  },
  {
   "cell_type": "markdown",
   "metadata": {},
   "source": [
    "## Evaluate Pre-trained Model"
   ]
  },
  {
   "cell_type": "code",
   "execution_count": 56,
   "metadata": {},
   "outputs": [
    {
     "name": "stdout",
     "output_type": "stream",
     "text": [
      "[INFO] compiling model...\n"
     ]
    }
   ],
   "source": [
    "# init model and load the model weights\n",
    "print(\"[INFO] compiling model...\")\n",
    "model = LeNet.init(numChannels=image_channels, \n",
    "                    imgRows=image_height, imgCols=image_width,\n",
    "                    numClasses=num_classes,\n",
    "                    weightsPath=\"saved_weight.h5\")\n",
    "\n",
    "# compile the model\n",
    "model.compile(optimizer=tf.keras.optimizers.SGD(lr=0.01),  # Stochastic Gradient Descent\n",
    "        loss=\"sparse_categorical_crossentropy\",\n",
    "        metrics=[\"accuracy\"])"
   ]
  },
  {
   "cell_type": "code",
   "execution_count": 57,
   "metadata": {},
   "outputs": [
    {
     "name": "stdout",
     "output_type": "stream",
     "text": [
      "[INFO] evaluating...\n",
      "79/79 [==============================] - 1s 9ms/step - loss: 0.2616 - accuracy: 0.9104\n",
      "[INFO] accuracy: 91.04%\n"
     ]
    }
   ],
   "source": [
    "# show the accuracy on the testing set\n",
    "print(\"[INFO] evaluating...\")\n",
    "batch_size = 128\n",
    "(loss, accuracy) = model.evaluate(testData, testLabels,\n",
    "                                  batch_size=batch_size, verbose=1)\n",
    "print(\"[INFO] accuracy: {:.2f}%\".format(accuracy * 100))"
   ]
  },
  {
   "cell_type": "markdown",
   "metadata": {},
   "source": [
    "## Model Predictions"
   ]
  },
  {
   "cell_type": "code",
   "execution_count": 58,
   "metadata": {},
   "outputs": [
    {
     "ename": "ModuleNotFoundError",
     "evalue": "No module named 'cv2'",
     "output_type": "error",
     "traceback": [
      "\u001b[0;31m---------------------------------------------------------------------------\u001b[0m",
      "\u001b[0;31mModuleNotFoundError\u001b[0m                       Traceback (most recent call last)",
      "\u001b[0;32m<ipython-input-58-da00c31ebc7d>\u001b[0m in \u001b[0;36m<module>\u001b[0;34m\u001b[0m\n\u001b[1;32m      1\u001b[0m \u001b[0mget_ipython\u001b[0m\u001b[0;34m(\u001b[0m\u001b[0;34m)\u001b[0m\u001b[0;34m.\u001b[0m\u001b[0mrun_line_magic\u001b[0m\u001b[0;34m(\u001b[0m\u001b[0;34m'matplotlib'\u001b[0m\u001b[0;34m,\u001b[0m \u001b[0;34m'inline'\u001b[0m\u001b[0;34m)\u001b[0m\u001b[0;34m\u001b[0m\u001b[0;34m\u001b[0m\u001b[0m\n\u001b[1;32m      2\u001b[0m \u001b[0;32mimport\u001b[0m \u001b[0mnumpy\u001b[0m \u001b[0;32mas\u001b[0m \u001b[0mnp\u001b[0m\u001b[0;34m\u001b[0m\u001b[0;34m\u001b[0m\u001b[0m\n\u001b[0;32m----> 3\u001b[0;31m \u001b[0;32mimport\u001b[0m \u001b[0mcv2\u001b[0m\u001b[0;34m\u001b[0m\u001b[0;34m\u001b[0m\u001b[0m\n\u001b[0m\u001b[1;32m      4\u001b[0m \u001b[0;32mimport\u001b[0m \u001b[0mmatplotlib\u001b[0m\u001b[0;34m.\u001b[0m\u001b[0mpyplot\u001b[0m \u001b[0;32mas\u001b[0m \u001b[0mplt\u001b[0m\u001b[0;34m\u001b[0m\u001b[0;34m\u001b[0m\u001b[0m\n\u001b[1;32m      5\u001b[0m \u001b[0;34m\u001b[0m\u001b[0m\n",
      "\u001b[0;31mModuleNotFoundError\u001b[0m: No module named 'cv2'"
     ]
    }
   ],
   "source": [
    "%matplotlib inline\n",
    "import numpy as np\n",
    "import cv2\n",
    "import matplotlib.pyplot as plt\n",
    "\n",
    "# set up matplotlib fig, and size it to fit 3x4 pics\n",
    "nrows = 3\n",
    "ncols = 4\n",
    "fig = plt.gcf()\n",
    "fig.set_size_inches(ncols*4, nrows*4)\n",
    "\n",
    "# randomly select a few testing digits\n",
    "num_predictions = 12\n",
    "test_indices = np.random.choice(np.arange(0, len(testLabels)), size=(num_predictions,))\n",
    "test_images = np.stack(([testData[i] for i in test_indices]))\n",
    "test_labels = np.stack(([testLabels[i] for i in test_indices]))\n",
    "\n",
    "# compute predictions\n",
    "predictions = model.predict(test_images)\n",
    "\n",
    "for i in range(num_predictions):\n",
    "    # select the most probable class\n",
    "    prediction = np.argmax(predictions[i])\n",
    "\n",
    "    # rescale the test image\n",
    "    image = (test_images[i] * 255).astype(\"uint8\")\n",
    "\n",
    "    # resize the image from a 28 x 28 image to a 96 x 96 image so we can better see it\n",
    "    image = cv2.resize(image, (96, 96), interpolation=cv2.INTER_CUBIC)\n",
    "\n",
    "    # convert grayscale image to RGB color\n",
    "    image = cv2.merge([image] * 3)\n",
    "\n",
    "    # select prediction text color\n",
    "    if prediction == test_labels[i]:\n",
    "        rgb_color = (0, 255, 0) # green for correct predictions\n",
    "    else:\n",
    "        rgb_color = (255, 0, 0) # red for wrong predictions\n",
    "\n",
    "    # show the image and prediction\n",
    "    cv2.putText(image, str(class_names[prediction]), (0, 10),\n",
    "                cv2.FONT_HERSHEY_SIMPLEX, 0.5, rgb_color, 1)\n",
    "    \n",
    "    # set up subplot; subplot indices start at 1\n",
    "    sp = plt.subplot(nrows, ncols, i + 1, title=\"label: %s\" % class_names[test_labels[i]])\n",
    "    sp.axis('Off') # don't show axes (or gridlines)\n",
    "    plt.imshow(image)\n",
    "\n",
    "# show figure matrix\n",
    "plt.show()"
   ]
  },
  {
   "cell_type": "code",
   "execution_count": null,
   "metadata": {},
   "outputs": [],
   "source": []
  }
 ],
 "metadata": {
  "kernelspec": {
   "display_name": "Python 3",
   "language": "python",
   "name": "python3"
  },
  "language_info": {
   "codemirror_mode": {
    "name": "ipython",
    "version": 3
   },
   "file_extension": ".py",
   "mimetype": "text/x-python",
   "name": "python",
   "nbconvert_exporter": "python",
   "pygments_lexer": "ipython3",
   "version": "3.8.3"
  }
 },
 "nbformat": 4,
 "nbformat_minor": 4
}
