{
 "cells": [
  {
   "cell_type": "code",
   "execution_count": 1,
   "metadata": {},
   "outputs": [],
   "source": [
    "import tensorflow as tf\n",
    "from tensorflow import keras\n",
    "\n",
    "df=keras.datasets.fashion_mnist\n",
    "(X_train, y_train), (X_test, y_test) = df.load_data()"
   ]
  },
  {
   "cell_type": "code",
   "execution_count": 2,
   "metadata": {},
   "outputs": [
    {
     "data": {
      "text/plain": [
       "(60000, 28, 28)"
      ]
     },
     "execution_count": 2,
     "metadata": {},
     "output_type": "execute_result"
    }
   ],
   "source": [
    "X_train.shape"
   ]
  },
  {
   "cell_type": "code",
   "execution_count": 3,
   "metadata": {},
   "outputs": [
    {
     "data": {
      "text/plain": [
       "(60000,)"
      ]
     },
     "execution_count": 3,
     "metadata": {},
     "output_type": "execute_result"
    }
   ],
   "source": [
    "y_train.shape"
   ]
  },
  {
   "cell_type": "code",
   "execution_count": 4,
   "metadata": {},
   "outputs": [
    {
     "data": {
      "text/plain": [
       "(10000, 28, 28)"
      ]
     },
     "execution_count": 4,
     "metadata": {},
     "output_type": "execute_result"
    }
   ],
   "source": [
    "X_test.shape"
   ]
  },
  {
   "cell_type": "code",
   "execution_count": 5,
   "metadata": {},
   "outputs": [
    {
     "data": {
      "text/plain": [
       "(10000,)"
      ]
     },
     "execution_count": 5,
     "metadata": {},
     "output_type": "execute_result"
    }
   ],
   "source": [
    "y_test.shape"
   ]
  },
  {
   "cell_type": "code",
   "execution_count": 6,
   "metadata": {},
   "outputs": [],
   "source": [
    "class_names = ['T-shirt/top', 'Trouser', 'Pullover', 'Dress', 'Coat',\n",
    "               'Sandal', 'Shirt', 'Sneaker', 'Bag', 'Ankle boot']"
   ]
  },
  {
   "cell_type": "code",
   "execution_count": 7,
   "metadata": {},
   "outputs": [
    {
     "data": {
      "text/plain": [
       "<matplotlib.image.AxesImage at 0x7fd5489c9b80>"
      ]
     },
     "execution_count": 7,
     "metadata": {},
     "output_type": "execute_result"
    },
    {
     "data": {
      "image/png": "[encoded data removed]",
      "text/plain": [
       "<Figure size 432x288 with 1 Axes>"
      ]
     },
     "metadata": {
      "needs_background": "light"
     },
     "output_type": "display_data"
    }
   ],
   "source": [
    "import matplotlib.pyplot as plt\n",
    "plt.imshow(X_train[0])"
   ]
  },
  {
   "cell_type": "markdown",
   "metadata": {},
   "source": [
    "### Normalizing "
   ]
  },
  {
   "cell_type": "code",
   "execution_count": 8,
   "metadata": {},
   "outputs": [],
   "source": [
    "X_train=X_train/255.0\n",
    "X_test=X_test/255"
   ]
  },
  {
   "cell_type": "markdown",
   "metadata": {},
   "source": [
    "**Q1)** Why do we perform the process of Normalization and Standardization?\n",
    "\n",
    "\n",
    "a.   It makes gradient descent faster, but less accurate <br>\n",
    "b.   It makes gradient descent faster, and more accurate <br>\n",
    "c.   It reduces bias between different features which might have existed because of difference in order of magnitude. <br>\n",
    "d.   It does not affect the accuracy of the model <br>\n",
    " (more than one option might be correct) \n"
   ]
  },
  {
   "cell_type": "markdown",
   "metadata": {},
   "source": [
    "**Ans** :  b,c"
   ]
  },
  {
   "cell_type": "code",
   "execution_count": 9,
   "metadata": {},
   "outputs": [
    {
     "data": {
      "text/plain": [
       "dtype('uint8')"
      ]
     },
     "execution_count": 9,
     "metadata": {},
     "output_type": "execute_result"
    }
   ],
   "source": [
    "y_train.dtype"
   ]
  },
  {
   "cell_type": "code",
   "execution_count": 10,
   "metadata": {},
   "outputs": [
    {
     "data": {
      "text/plain": [
       "array([9, 0, 0, ..., 3, 0, 5], dtype=uint8)"
      ]
     },
     "execution_count": 10,
     "metadata": {},
     "output_type": "execute_result"
    }
   ],
   "source": [
    "y_train"
   ]
  },
  {
   "cell_type": "markdown",
   "metadata": {},
   "source": [
    "### ONE HOT ENCODING"
   ]
  },
  {
   "cell_type": "code",
   "execution_count": 11,
   "metadata": {},
   "outputs": [],
   "source": [
    "from tensorflow.keras.utils import to_categorical\n",
    "y_train = to_categorical(y_train)\n",
    "y_test = to_categorical(y_test)"
   ]
  },
  {
   "cell_type": "code",
   "execution_count": 12,
   "metadata": {},
   "outputs": [
    {
     "data": {
      "text/plain": [
       "array([[0., 0., 0., ..., 0., 0., 1.],\n",
       "       [1., 0., 0., ..., 0., 0., 0.],\n",
       "       [1., 0., 0., ..., 0., 0., 0.],\n",
       "       ...,\n",
       "       [0., 0., 0., ..., 0., 0., 0.],\n",
       "       [1., 0., 0., ..., 0., 0., 0.],\n",
       "       [0., 0., 0., ..., 0., 0., 0.]], dtype=float32)"
      ]
     },
     "execution_count": 12,
     "metadata": {},
     "output_type": "execute_result"
    }
   ],
   "source": [
    "y_train"
   ]
  },
  {
   "cell_type": "code",
   "execution_count": 22,
   "metadata": {},
   "outputs": [
    {
     "data": {
      "text/plain": [
       "10"
      ]
     },
     "execution_count": 22,
     "metadata": {},
     "output_type": "execute_result"
    }
   ],
   "source": [
    "num_classes=y_train.shape[1]\n",
    "num_classes"
   ]
  },
  {
   "cell_type": "markdown",
   "metadata": {},
   "source": [
    "### FITTING MODELS"
   ]
  },
  {
   "cell_type": "code",
   "execution_count": 16,
   "metadata": {},
   "outputs": [],
   "source": [
    "num_pixels=X_train.shape[1]*X_train.shape[2]\n",
    "X_train=X_train.reshape(X_train.shape[0],num_pixels).astype(float)\n",
    "X_test=X_test.reshape(X_test.shape[0],num_pixels).astype(float)"
   ]
  },
  {
   "cell_type": "code",
   "execution_count": 20,
   "metadata": {},
   "outputs": [
    {
     "data": {
      "text/plain": [
       "(60000, 10)"
      ]
     },
     "execution_count": 20,
     "metadata": {},
     "output_type": "execute_result"
    }
   ],
   "source": [
    "y_train.shape"
   ]
  },
  {
   "cell_type": "markdown",
   "metadata": {},
   "source": [
    "**your next task to build a model with the specifed architechture**\n",
    "\n",
    "->input layer with relu activation function\n",
    "->one hidden layer with 128 nodes and relu activation function\n",
    "->ten output nodes with softmax activation function\n",
    "\n",
    "Now compile model with optimizer as adam and loss function as categorical crossentropy and metrics as accuracy"
   ]
  },
  {
   "cell_type": "code",
   "execution_count": 23,
   "metadata": {},
   "outputs": [],
   "source": [
    "from keras.models import Sequential\n",
    "from keras.layers import Dense\n",
    "def fit_model():\n",
    "    model =Sequential()\n",
    "    model.add(Dense(num_pixels,activation=\"relu\",input_shape=(num_pixels,)))\n",
    "    model.add(Dense(128,activation=\"relu\"))\n",
    "    model.add(Dense(10,activation=\"softmax\"))\n",
    "    \n",
    "    model.compile(optimizer=\"adam\" , loss=\"categorical_crossentropy\", metrics=[\"accuracy\"])\n",
    "    return model"
   ]
  },
  {
   "cell_type": "markdown",
   "metadata": {},
   "source": [
    "***Training and Testing***\n",
    "\n",
    "your task is to find the accuracy of the model testing dataset."
   ]
  },
  {
   "cell_type": "code",
   "execution_count": 24,
   "metadata": {},
   "outputs": [
    {
     "name": "stdout",
     "output_type": "stream",
     "text": [
      "Epoch 1/10\n",
      "1875/1875 - 10s - loss: 0.4720 - accuracy: 0.8295 - val_loss: 0.4199 - val_accuracy: 0.8510\n",
      "Epoch 2/10\n",
      "1875/1875 - 9s - loss: 0.3574 - accuracy: 0.8678 - val_loss: 0.3910 - val_accuracy: 0.8565\n",
      "Epoch 3/10\n",
      "1875/1875 - 10s - loss: 0.3188 - accuracy: 0.8825 - val_loss: 0.3923 - val_accuracy: 0.8566\n",
      "Epoch 4/10\n",
      "1875/1875 - 9s - loss: 0.2974 - accuracy: 0.8881 - val_loss: 0.3335 - val_accuracy: 0.8815\n",
      "Epoch 5/10\n",
      "1875/1875 - 11s - loss: 0.2793 - accuracy: 0.8954 - val_loss: 0.3477 - val_accuracy: 0.8764\n",
      "Epoch 6/10\n",
      "1875/1875 - 10s - loss: 0.2629 - accuracy: 0.9010 - val_loss: 0.3517 - val_accuracy: 0.8746\n",
      "Epoch 7/10\n",
      "1875/1875 - 11s - loss: 0.2507 - accuracy: 0.9056 - val_loss: 0.3489 - val_accuracy: 0.8760\n",
      "Epoch 8/10\n",
      "1875/1875 - 10s - loss: 0.2394 - accuracy: 0.9090 - val_loss: 0.3486 - val_accuracy: 0.8789\n",
      "Epoch 9/10\n",
      "1875/1875 - 10s - loss: 0.2295 - accuracy: 0.9111 - val_loss: 0.3568 - val_accuracy: 0.8871\n",
      "Epoch 10/10\n",
      "1875/1875 - 10s - loss: 0.2214 - accuracy: 0.9153 - val_loss: 0.3378 - val_accuracy: 0.8898\n"
     ]
    }
   ],
   "source": [
    "model=fit_model()\n",
    "model.fit(X_train,y_train,validation_data=(X_test,y_test),epochs=10,verbose=2)\n",
    "scores = model.evaluate(X_test, y_test, verbose=0)"
   ]
  },
  {
   "cell_type": "code",
   "execution_count": 25,
   "metadata": {},
   "outputs": [
    {
     "data": {
      "text/plain": [
       "[0.3378051817417145, 0.8898000121116638]"
      ]
     },
     "execution_count": 25,
     "metadata": {},
     "output_type": "execute_result"
    }
   ],
   "source": [
    "scores"
   ]
  },
  {
   "cell_type": "code",
   "execution_count": 29,
   "metadata": {},
   "outputs": [],
   "source": [
    "model.save(\"model_no1.h5\")"
   ]
  },
  {
   "cell_type": "code",
   "execution_count": 30,
   "metadata": {},
   "outputs": [
    {
     "name": "stdout",
     "output_type": "stream",
     "text": [
      "Model: \"sequential_1\"\n",
      "_________________________________________________________________\n",
      "Layer (type)                 Output Shape              Param #   \n",
      "=================================================================\n",
      "dense (Dense)                (None, 784)               615440    \n",
      "_________________________________________________________________\n",
      "dense_1 (Dense)              (None, 128)               100480    \n",
      "_________________________________________________________________\n",
      "dense_2 (Dense)              (None, 10)                1290      \n",
      "=================================================================\n",
      "Total params: 717,210\n",
      "Trainable params: 717,210\n",
      "Non-trainable params: 0\n",
      "_________________________________________________________________\n"
     ]
    }
   ],
   "source": [
    "from keras.models import load_model\n",
    "trained_modelno1=load_model(\"model_no1.h5\")\n",
    "trained_modelno1.summary()"
   ]
  },
  {
   "cell_type": "code",
   "execution_count": 31,
   "metadata": {},
   "outputs": [
    {
     "data": {
      "image/png": "[encoded data removed]",
      "text/plain": [
       "<IPython.core.display.Image object>"
      ]
     },
     "execution_count": 31,
     "metadata": {},
     "output_type": "execute_result"
    }
   ],
   "source": [
    "from keras.utils import plot_model\n",
    "plot_model(trained_modelno1,to_file=\"model_no1.png\")"
   ]
  },
  {
   "cell_type": "markdown",
   "metadata": {},
   "source": [
    "**Q2)** You will find there is diffence in the training and test accuracy.what steps would you take to reduce this difference?<br>\n",
    "\n",
    "a) Increase the number of epochs<br>\n",
    "b) Increase the number of layers<br>\n",
    "c) Use the technique of dropout<br>\n",
    "d) Increase the amount of input data(given you have the luxury of generating more data)<br>\n",
    " (more than one option might be correct)"
   ]
  },
  {
   "cell_type": "markdown",
   "metadata": {},
   "source": [
    "**ANS** c d  "
   ]
  },
  {
   "cell_type": "markdown",
   "metadata": {},
   "source": [
    "**Q3)** One of the important step during neural network implementation is how initial the weights. What rule would give best result when you are initialising a **very deep neural network**?<br>\n",
    "a) To initialize very small values randomly.<br>\n",
    "b) To initialize randomly such that the mean of the activations should be zero.<br>\n",
    "c) To initialize randomly such that the variance of the activations should stay the same across every layer.<br>\n",
    "d) To initialize very big values randomly<br>\n",
    "(more than one option might be correct)\n"
   ]
  },
  {
   "cell_type": "markdown",
   "metadata": {},
   "source": [
    "**ANS** b, c"
   ]
  },
  {
   "cell_type": "code",
   "execution_count": null,
   "metadata": {},
   "outputs": [],
   "source": []
  }
 ],
 "metadata": {
  "kernelspec": {
   "display_name": "Python 3",
   "language": "python",
   "name": "python3"
  },
  "language_info": {
   "codemirror_mode": {
    "name": "ipython",
    "version": 3
   },
   "file_extension": ".py",
   "mimetype": "text/x-python",
   "name": "python",
   "nbconvert_exporter": "python",
   "pygments_lexer": "ipython3",
   "version": "3.8.3"
  }
 },
 "nbformat": 4,
 "nbformat_minor": 4
}
