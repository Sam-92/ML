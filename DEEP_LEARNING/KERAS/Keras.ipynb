{
 "cells": [
  {
   "cell_type": "markdown",
   "metadata": {
    "colab_type": "text",
    "id": "cLu0ChfMCBh1"
   },
   "source": [
    "###Introduction to Keras###\n",
    "Keras is a deep learning API written in Python, running on top of the machine learning platform TensorFlow. It was developed with a focus on enabling fast experimentation.\n",
    "The core data structures of Keras are layers and models. The simplest type of model is the Sequential model, a linear stack of layers. For more complex architectures, you should use the Keras functional API, which allows to build arbitrary graphs of layers, or write models entirely from scratch via subclasssing."
   ]
  },
  {
   "cell_type": "markdown",
   "metadata": {
    "colab_type": "text",
    "id": "EoBla9PdETMw"
   },
   "source": [
    "###Working on the MNIST Dataset###\n",
    "The MNIST database of handwritten digits, available from this page, has a training set of 60,000 examples, and a test set of 10,000 examples. It is a subset of a larger set available from NIST. The digits have been size-normalized and centered in a fixed-size image.\n",
    "It is a good database for people who want to try learning techniques and pattern recognition methods on real-world data while spending minimal efforts on preprocessing and formatting."
   ]
  },
  {
   "cell_type": "markdown",
   "metadata": {
    "colab_type": "text",
    "id": "abEja47OHi1n"
   },
   "source": [
    "Importing all the libraries and dependencies required for implementation, We would work MNIST database and try to classify correctly using keras"
   ]
  },
  {
   "cell_type": "code",
   "execution_count": 15,
   "metadata": {
    "colab": {},
    "colab_type": "code",
    "id": "LZDX6Qu5HaqL"
   },
   "outputs": [],
   "source": [
    "import keras\n",
    "\n",
    "from keras.models import Sequential\n",
    "from keras.layers import Dense\n",
    "from keras.utils import to_categorical"
   ]
  },
  {
   "cell_type": "markdown",
   "metadata": {
    "colab_type": "text",
    "id": "d3XS_XfrJani"
   },
   "source": [
    "Since we are dealing we images, let's also import the Matplotlib scripting layer in order to view the images."
   ]
  },
  {
   "cell_type": "code",
   "execution_count": 16,
   "metadata": {
    "colab": {},
    "colab_type": "code",
    "id": "yt0Kg0ZjH8CD"
   },
   "outputs": [],
   "source": [
    "import matplotlib.pyplot as plt"
   ]
  },
  {
   "cell_type": "markdown",
   "metadata": {
    "colab_type": "text",
    "id": "tzKAx2fEJn7V"
   },
   "source": [
    "The Keras library conveniently includes the MNIST dataset as part of its API. You can check other datasets within the Keras library [here](https://keras.io/datasets/). \n",
    "\n",
    "So, let's load the MNIST dataset from the Keras library. The dataset is readily divided into a training set and a test set."
   ]
  },
  {
   "cell_type": "code",
   "execution_count": 17,
   "metadata": {
    "colab": {},
    "colab_type": "code",
    "id": "_33tYpRTJhND"
   },
   "outputs": [],
   "source": [
    "# import the data\n",
    "from keras.datasets import mnist\n",
    "\n",
    "# read the data\n",
    "(X_train, y_train), (X_test, y_test) = mnist.load_data()"
   ]
  },
  {
   "cell_type": "markdown",
   "metadata": {
    "colab_type": "text",
    "id": "YtiPCn2wKA6d"
   },
   "source": [
    "Let's confirm the number of images in each set. According to the dataset's documentation, we should have 60000 images in X_train and 10000 images in the X_test."
   ]
  },
  {
   "cell_type": "code",
   "execution_count": 18,
   "metadata": {
    "colab": {
     "base_uri": "https://localhost:8080/",
     "height": 34
    },
    "colab_type": "code",
    "id": "zYETwRLUJvT-",
    "outputId": "40f32f6e-e171-4ab0-e88a-c7324120ee60"
   },
   "outputs": [
    {
     "data": {
      "text/plain": [
       "(60000, 28, 28)"
      ]
     },
     "execution_count": 18,
     "metadata": {
      "tags": []
     },
     "output_type": "execute_result"
    }
   ],
   "source": [
    "X_train.shape"
   ]
  },
  {
   "cell_type": "code",
   "execution_count": 19,
   "metadata": {
    "colab": {
     "base_uri": "https://localhost:8080/",
     "height": 34
    },
    "colab_type": "code",
    "id": "mPABXV5XKFgs",
    "outputId": "cdda4c25-33c5-474e-8784-38c706aafca0"
   },
   "outputs": [
    {
     "data": {
      "text/plain": [
       "(10000, 28, 28)"
      ]
     },
     "execution_count": 19,
     "metadata": {
      "tags": []
     },
     "output_type": "execute_result"
    }
   ],
   "source": [
    "X_test.shape"
   ]
  },
  {
   "cell_type": "markdown",
   "metadata": {
    "colab_type": "text",
    "id": "xm9o7AWAKu-I"
   },
   "source": [
    "The first number in the output tuple is the number of images, and the other two numbers are the size of the images in datset. So, each image is 28 pixels by 28 pixels."
   ]
  },
  {
   "cell_type": "markdown",
   "metadata": {
    "colab_type": "text",
    "id": "XPOJiQ0QKw7s"
   },
   "source": [
    "Let's visualize the first image in the training set using Matplotlib's scripting layer."
   ]
  },
  {
   "cell_type": "code",
   "execution_count": 20,
   "metadata": {
    "colab": {
     "base_uri": "https://localhost:8080/",
     "height": 282
    },
    "colab_type": "code",
    "id": "ULZLC5V2KJfk",
    "outputId": "1e4baa84-ab54-4625-fa68-8de3f129d9fc"
   },
   "outputs": [
    {
     "data": {
      "text/plain": [
       "<matplotlib.image.AxesImage at 0x7f3f7e938860>"
      ]
     },
     "execution_count": 20,
     "metadata": {
      "tags": []
     },
     "output_type": "execute_result"
    },
    {
     "data": {
      "image/png": "[encoded data removed]",
      "text/plain": [
       "<Figure size 432x288 with 1 Axes>"
      ]
     },
     "metadata": {
      "needs_background": "light",
      "tags": []
     },
     "output_type": "display_data"
    }
   ],
   "source": [
    "plt.imshow(X_train[0])"
   ]
  },
  {
   "cell_type": "markdown",
   "metadata": {
    "colab_type": "text",
    "id": "dyQMVf92QFP1"
   },
   "source": [
    "###Preprocesing###\n",
    "With conventional neural networks, we cannot feed in the image as input as is. So we need to flatten the images into one-dimensional vectors, each of size 1 x (28 x 28) = 1 x 784."
   ]
  },
  {
   "cell_type": "code",
   "execution_count": 21,
   "metadata": {
    "colab": {},
    "colab_type": "code",
    "id": "5IgVob22LAeP"
   },
   "outputs": [],
   "source": [
    "# flatten images into one-dimensional vector\n",
    "\n",
    "num_pixels = X_train.shape[1] * X_train.shape[2] # find size of one-dimensional vector\n",
    "\n",
    "X_train = X_train.reshape(X_train.shape[0], num_pixels).astype('float32') # flatten training images\n",
    "X_test = X_test.reshape(X_test.shape[0], num_pixels).astype('float32') # flatten test images"
   ]
  },
  {
   "cell_type": "markdown",
   "metadata": {
    "colab_type": "text",
    "id": "zXCbyXBNY0AV"
   },
   "source": [
    "Since pixel values can range from 0 to 255, let's normalize the vectors to be between 0 and 1.\n"
   ]
  },
  {
   "cell_type": "code",
   "execution_count": 22,
   "metadata": {
    "colab": {},
    "colab_type": "code",
    "id": "lXSEvNo8YtV1"
   },
   "outputs": [],
   "source": [
    "# normalize inputs from 0-255 to 0-1\n",
    "X_train = X_train / 255\n",
    "X_test = X_test / 255"
   ]
  },
  {
   "cell_type": "markdown",
   "metadata": {
    "colab_type": "text",
    "id": "b1OzO64VY_VA"
   },
   "source": [
    "Finally, before we start building our model, remember that for classification we need to divide our target variable into categories. We use the to_categorical function from the Keras Utilities package.\n",
    "You can read more about it [here](https://keras.io/api/utils/)\n",
    "Also One Hot Encoding might me a new topic for many of you, you can get more info [right here](https://medium.com/@michaeldelsole/what-is-one-hot-encoding-and-how-to-do-it-f0ae272f1179) "
   ]
  },
  {
   "cell_type": "code",
   "execution_count": 23,
   "metadata": {
    "colab": {
     "base_uri": "https://localhost:8080/",
     "height": 34
    },
    "colab_type": "code",
    "id": "wKRn5Ew5Zd0f",
    "outputId": "508b7401-0770-4f61-cfa3-ef5bc27dbd56"
   },
   "outputs": [
    {
     "name": "stdout",
     "output_type": "stream",
     "text": [
      "10\n"
     ]
    }
   ],
   "source": [
    "# one hot encode outputs\n",
    "y_train = to_categorical(y_train)\n",
    "y_test = to_categorical(y_test)\n",
    "\n",
    "num_classes = y_test.shape[1]\n",
    "print(num_classes)"
   ]
  },
  {
   "cell_type": "markdown",
   "metadata": {
    "colab_type": "text",
    "id": "Vw8hQwNZa98Q"
   },
   "source": [
    "###Building Model with Keras \n",
    "We will first implement only a bare bones model, to just illustrate how keras works."
   ]
  },
  {
   "cell_type": "code",
   "execution_count": 24,
   "metadata": {
    "colab": {},
    "colab_type": "code",
    "id": "WZcE8VRAbrZo"
   },
   "outputs": [],
   "source": [
    "# define classification model\n",
    "def classification_model():\n",
    "    # create model\n",
    "    model = Sequential()\n",
    "    model.add(Dense(num_pixels, activation='relu', input_shape=(num_pixels,)))\n",
    "    model.add(Dense(100, activation='relu'))\n",
    "    model.add(Dense(num_classes, activation='softmax'))\n",
    "    \n",
    "    \n",
    "    # compile model\n",
    "    model.compile(optimizer='adam', loss='categorical_crossentropy', metrics=['accuracy'])\n",
    "    return model"
   ]
  },
  {
   "cell_type": "markdown",
   "metadata": {
    "colab_type": "text",
    "id": "uGITwS7WcQ6k"
   },
   "source": [
    "###Training and Testing"
   ]
  },
  {
   "cell_type": "code",
   "execution_count": 28,
   "metadata": {
    "colab": {
     "base_uri": "https://localhost:8080/",
     "height": 374
    },
    "colab_type": "code",
    "id": "3yXHtCdzbvOT",
    "outputId": "6ac0bb45-ad42-4c3f-8c0d-ad3d41fc5375"
   },
   "outputs": [
    {
     "name": "stdout",
     "output_type": "stream",
     "text": [
      "Train on 60000 samples, validate on 10000 samples\n",
      "Epoch 1/10\n",
      " - 24s - loss: 0.1859 - accuracy: 0.9439 - val_loss: 0.0981 - val_accuracy: 0.9697\n",
      "Epoch 2/10\n",
      " - 23s - loss: 0.0784 - accuracy: 0.9763 - val_loss: 0.0682 - val_accuracy: 0.9783\n",
      "Epoch 3/10\n",
      " - 23s - loss: 0.0545 - accuracy: 0.9829 - val_loss: 0.0781 - val_accuracy: 0.9753\n",
      "Epoch 4/10\n",
      " - 24s - loss: 0.0387 - accuracy: 0.9878 - val_loss: 0.0669 - val_accuracy: 0.9798\n",
      "Epoch 5/10\n",
      " - 23s - loss: 0.0327 - accuracy: 0.9895 - val_loss: 0.0633 - val_accuracy: 0.9812\n",
      "Epoch 6/10\n",
      " - 23s - loss: 0.0263 - accuracy: 0.9913 - val_loss: 0.0823 - val_accuracy: 0.9778\n",
      "Epoch 7/10\n",
      " - 23s - loss: 0.0213 - accuracy: 0.9933 - val_loss: 0.0769 - val_accuracy: 0.9793\n",
      "Epoch 8/10\n",
      " - 24s - loss: 0.0202 - accuracy: 0.9933 - val_loss: 0.0949 - val_accuracy: 0.9774\n",
      "Epoch 9/10\n",
      " - 24s - loss: 0.0187 - accuracy: 0.9942 - val_loss: 0.0910 - val_accuracy: 0.9777\n",
      "Epoch 10/10\n",
      " - 23s - loss: 0.0147 - accuracy: 0.9951 - val_loss: 0.0920 - val_accuracy: 0.9809\n"
     ]
    }
   ],
   "source": [
    "# build the model\n",
    "model = classification_model()\n",
    "# fit the model\n",
    "model.fit(X_train, y_train, validation_data=(X_test, y_test), epochs=10, verbose=2)\n",
    "# evaluate the model\n",
    "scores = model.evaluate(X_test, y_test, verbose=0)"
   ]
  },
  {
   "cell_type": "markdown",
   "metadata": {
    "colab_type": "text",
    "id": "AWSQWuVUegA_"
   },
   "source": [
    "Let's print the accuracy and the corresponding error."
   ]
  },
  {
   "cell_type": "code",
   "execution_count": 29,
   "metadata": {
    "colab": {
     "base_uri": "https://localhost:8080/",
     "height": 51
    },
    "colab_type": "code",
    "id": "Er2YDyyXchso",
    "outputId": "eae1452e-7f99-436a-dc88-57f077ad7115"
   },
   "outputs": [
    {
     "name": "stdout",
     "output_type": "stream",
     "text": [
      "Accuracy: 0.98089998960495% \n",
      " Error: 0.01910001039505005\n"
     ]
    }
   ],
   "source": [
    "print('Accuracy: {}% \\n Error: {}'.format(scores[1], 1 - scores[1]))"
   ]
  },
  {
   "cell_type": "markdown",
   "metadata": {
    "colab_type": "text",
    "id": "mFz-TGcee-RL"
   },
   "source": [
    "Just running 10 epochs could actually take some time. But enjoy the results as they are getting generated."
   ]
  },
  {
   "cell_type": "markdown",
   "metadata": {
    "colab_type": "text",
    "id": "1Modb5-IfICU"
   },
   "source": [
    "Sometimes, you cannot afford to retrain your model everytime you want to use it, especially if you are limited on computational resources and training your model can take a long time. Therefore, with the Keras library, you can save your model after training. To do that, we use the save method."
   ]
  },
  {
   "cell_type": "code",
   "execution_count": 30,
   "metadata": {
    "colab": {},
    "colab_type": "code",
    "id": "QscdVqPGefRd"
   },
   "outputs": [],
   "source": [
    "model.save('classification_model.h5')"
   ]
  },
  {
   "cell_type": "markdown",
   "metadata": {
    "colab_type": "text",
    "id": "ZyIKNnFPfOmF"
   },
   "source": [
    "Since our model contains multidimensional arrays of data, then models are usually saved as .h5 files.\n",
    "When you are ready to use your model again, you use the load_model function from <strong>keras.models</strong>"
   ]
  },
  {
   "cell_type": "code",
   "execution_count": 31,
   "metadata": {
    "colab": {},
    "colab_type": "code",
    "id": "mRiY2mlbfciH"
   },
   "outputs": [],
   "source": [
    "from keras.models import load_model\n",
    "pretrained_model = load_model('classification_model.h5')"
   ]
  },
  {
   "cell_type": "code",
   "execution_count": 36,
   "metadata": {
    "colab": {
     "base_uri": "https://localhost:8080/",
     "height": 255
    },
    "colab_type": "code",
    "id": "n2C8mi0Zflfg",
    "outputId": "82eaa283-b019-4d44-f8ce-d9f949c68fb0"
   },
   "outputs": [
    {
     "name": "stdout",
     "output_type": "stream",
     "text": [
      "Model: \"sequential_6\"\n",
      "_________________________________________________________________\n",
      "Layer (type)                 Output Shape              Param #   \n",
      "=================================================================\n",
      "dense_15 (Dense)             (None, 784)               615440    \n",
      "_________________________________________________________________\n",
      "dense_16 (Dense)             (None, 100)               78500     \n",
      "_________________________________________________________________\n",
      "dense_17 (Dense)             (None, 10)                1010      \n",
      "=================================================================\n",
      "Total params: 694,950\n",
      "Trainable params: 694,950\n",
      "Non-trainable params: 0\n",
      "_________________________________________________________________\n"
     ]
    }
   ],
   "source": [
    "pretrained_model.summary() # this function can be used to see the number of parameters in our model and can help in visualising the model"
   ]
  },
  {
   "cell_type": "markdown",
   "metadata": {
    "colab_type": "text",
    "id": "Navstbn4hDuO"
   },
   "source": [
    "Using <strong>plot_model</strong> function to present a graphical visualisation."
   ]
  },
  {
   "cell_type": "code",
   "execution_count": 37,
   "metadata": {
    "colab": {
     "base_uri": "https://localhost:8080/",
     "height": 369
    },
    "colab_type": "code",
    "id": "__PZUXXgfo9d",
    "outputId": "21f9e001-e1aa-4065-9982-d562d57fe779"
   },
   "outputs": [
    {
     "data": {
      "image/png": "[encoded data removed]",
      "text/plain": [
       "<IPython.core.display.Image object>"
      ]
     },
     "execution_count": 37,
     "metadata": {
      "tags": []
     },
     "output_type": "execute_result"
    }
   ],
   "source": [
    "from keras.utils import plot_model\n",
    "plot_model(pretrained_model, to_file='model.png')"
   ]
  },
  {
   "cell_type": "markdown",
   "metadata": {
    "colab_type": "text",
    "id": "GgBP4c6DjLKq"
   },
   "source": [
    "<strong>Now we will move onto implementation of slightly advanced topics</strong>\n"
   ]
  },
  {
   "cell_type": "markdown",
   "metadata": {
    "colab_type": "text",
    "id": "Ir6T59xehyHw"
   },
   "source": [
    "###Implementing Dropout with Xavier Normal Initialization\n",
    "The implementation of such concepts in keras may seem pretty straight forward, it is always good practise to know what goes underneath the hood. So we would advise you extensively google the topics and scour the depths of stackoverflow."
   ]
  },
  {
   "cell_type": "code",
   "execution_count": 40,
   "metadata": {
    "colab": {
     "base_uri": "https://localhost:8080/",
     "height": 374
    },
    "colab_type": "code",
    "id": "fhog021Eg9go",
    "outputId": "7e895074-0cd6-4b3c-ba3e-21459d40cd16"
   },
   "outputs": [
    {
     "name": "stdout",
     "output_type": "stream",
     "text": [
      "Train on 60000 samples, validate on 10000 samples\n",
      "Epoch 1/10\n",
      " - 21s - loss: 0.2305 - accuracy: 0.9307 - val_loss: 0.1019 - val_accuracy: 0.9668\n",
      "Epoch 2/10\n",
      " - 20s - loss: 0.1079 - accuracy: 0.9669 - val_loss: 0.0841 - val_accuracy: 0.9731\n",
      "Epoch 3/10\n",
      " - 20s - loss: 0.0806 - accuracy: 0.9749 - val_loss: 0.0787 - val_accuracy: 0.9767\n",
      "Epoch 4/10\n",
      " - 21s - loss: 0.0654 - accuracy: 0.9793 - val_loss: 0.0695 - val_accuracy: 0.9801\n",
      "Epoch 5/10\n",
      " - 21s - loss: 0.0534 - accuracy: 0.9830 - val_loss: 0.0749 - val_accuracy: 0.9800\n",
      "Epoch 6/10\n",
      " - 20s - loss: 0.0498 - accuracy: 0.9843 - val_loss: 0.0793 - val_accuracy: 0.9791\n",
      "Epoch 7/10\n",
      " - 20s - loss: 0.0456 - accuracy: 0.9857 - val_loss: 0.0733 - val_accuracy: 0.9797\n",
      "Epoch 8/10\n",
      " - 20s - loss: 0.0383 - accuracy: 0.9878 - val_loss: 0.0759 - val_accuracy: 0.9804\n",
      "Epoch 9/10\n",
      " - 20s - loss: 0.0350 - accuracy: 0.9890 - val_loss: 0.0859 - val_accuracy: 0.9805\n",
      "Epoch 10/10\n",
      " - 19s - loss: 0.0330 - accuracy: 0.9893 - val_loss: 0.0683 - val_accuracy: 0.9835\n"
     ]
    }
   ],
   "source": [
    "#We will the use the previous model with added dropoutand Xavier(Glorot) initialization\n",
    "from keras.initializers import glorot_normal\n",
    "from keras.layers import Dropout\n",
    "def model_dropout():\n",
    "    model = Sequential()\n",
    "    initializer = glorot_normal()\n",
    "    model.add(Dense(num_pixels, activation='relu', input_shape=(num_pixels,),kernel_initializer=initializer))\n",
    "    model.add(Dropout(0.2))# 0.2 inside means the fraction of neurons which would be dropped randomly\n",
    "    model.add(Dense(100, activation='relu',kernel_initializer=initializer))\n",
    "    model.add(Dropout(0.2))\n",
    "    model.add(Dense(num_classes, activation='softmax',kernel_initializer=initializer))\n",
    "    model.compile(optimizer='adam', loss='categorical_crossentropy', metrics=['accuracy'])\n",
    "    return model\n",
    "\n",
    "model2 = model_dropout()\n",
    "model2.fit(X_train, y_train, validation_data=(X_test, y_test), epochs=10, verbose=2)\n",
    "# evaluate the model\n",
    "scores = model2.evaluate(X_test, y_test, verbose=0)"
   ]
  },
  {
   "cell_type": "markdown",
   "metadata": {
    "colab_type": "text",
    "id": "TxZcNlYFvFPB"
   },
   "source": [
    "The model above may again take some time, but it is worth the wait.\n"
   ]
  },
  {
   "cell_type": "markdown",
   "metadata": {
    "colab_type": "text",
    "id": "dclSX2FVvq1X"
   },
   "source": [
    "Let's again print the accuracy on the test set and the corresponding error"
   ]
  },
  {
   "cell_type": "code",
   "execution_count": 41,
   "metadata": {
    "colab": {
     "base_uri": "https://localhost:8080/",
     "height": 51
    },
    "colab_type": "code",
    "id": "BHwfuAy9umcf",
    "outputId": "2d0eb1c6-820b-428e-b246-c55b08ef0914"
   },
   "outputs": [
    {
     "name": "stdout",
     "output_type": "stream",
     "text": [
      "Accuracy: 0.9835000038146973% \n",
      " Error: 0.016499996185302734\n"
     ]
    }
   ],
   "source": [
    "print('Accuracy: {}% \\n Error: {}'.format(scores[1], 1 - scores[1]))"
   ]
  },
  {
   "cell_type": "markdown",
   "metadata": {
    "colab_type": "text",
    "id": "Px1ZsOgdwQ0t"
   },
   "source": [
    "As you can see this model works somewhat better than the previous one. The main thing to note here is that machine learning is a lot like alchemy, you have to experiment and experiment until you get the best results. "
   ]
  },
  {
   "cell_type": "markdown",
   "metadata": {
    "colab_type": "text",
    "id": "iuEWFBgSwuSK"
   },
   "source": [
    "This concludes our keras implementation, though not our learning process. A lot of terms would be new here and you should definitley check them out. AL so <strong>play around</strong> with the dataset and the framework until you feel at ease with it."
   ]
  },
  {
   "cell_type": "markdown",
   "metadata": {
    "colab_type": "text",
    "id": "NUQZziNVxSEO"
   },
   "source": [
    "###All the Best for the Assignment!"
   ]
  },
  {
   "cell_type": "code",
   "execution_count": null,
   "metadata": {
    "colab": {},
    "colab_type": "code",
    "id": "S9GtJIAgwNLC"
   },
   "outputs": [],
   "source": []
  }
 ],
 "metadata": {
  "colab": {
   "name": "keras_implementation.ipynb",
   "provenance": [],
   "toc_visible": true
  },
  "kernelspec": {
   "display_name": "Python 3",
   "language": "python",
   "name": "python3"
  },
  "language_info": {
   "codemirror_mode": {
    "name": "ipython",
    "version": 3
   },
   "file_extension": ".py",
   "mimetype": "text/x-python",
   "name": "python",
   "nbconvert_exporter": "python",
   "pygments_lexer": "ipython3",
   "version": "3.8.3"
  }
 },
 "nbformat": 4,
 "nbformat_minor": 1
}
