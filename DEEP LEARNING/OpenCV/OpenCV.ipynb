{
 "cells": [
  {
   "cell_type": "markdown",
   "metadata": {},
   "source": [
    "## WORKING WITH OPENCV"
   ]
  },
  {
   "cell_type": "code",
   "execution_count": 1,
   "metadata": {},
   "outputs": [],
   "source": [
    "import cv2"
   ]
  },
  {
   "cell_type": "markdown",
   "metadata": {},
   "source": [
    "### Reading in the image"
   ]
  },
  {
   "cell_type": "code",
   "execution_count": 2,
   "metadata": {},
   "outputs": [
    {
     "name": "stdout",
     "output_type": "stream",
     "text": [
      "[[163 162 161 ... 170 154 130]\n",
      " [162 162 162 ... 173 155 126]\n",
      " [162 162 163 ... 170 155 128]\n",
      " ...\n",
      " [ 43  42  51 ... 103 101  99]\n",
      " [ 41  42  55 ... 103 105 106]\n",
      " [ 42  44  57 ... 102 106 109]]\n"
     ]
    }
   ],
   "source": [
    "# parameter-> path , color(grayscale,colored etc)\n",
    "img=cv2.imread('data/lena.jpg',0)\n",
    "print(img)"
   ]
  },
  {
   "cell_type": "markdown",
   "metadata": {},
   "source": [
    "#### Waitkey helps set the time for which image would be displayed in the image window \n",
    "#### Destroy all window destroys all the opened images"
   ]
  },
  {
   "cell_type": "code",
   "execution_count": 4,
   "metadata": {},
   "outputs": [],
   "source": [
    "# parameters-> window name , file name\n",
    "cv2.imshow('image',img)\n",
    "\n",
    "# time for which window will be displayed\n",
    "cv2.waitKey(5000)\n",
    "\n",
    "# closes all the opened windows\n",
    "cv2.destroyAllWindows()"
   ]
  },
  {
   "cell_type": "code",
   "execution_count": 6,
   "metadata": {},
   "outputs": [
    {
     "data": {
      "text/plain": [
       "True"
      ]
     },
     "execution_count": 6,
     "metadata": {},
     "output_type": "execute_result"
    }
   ],
   "source": [
    "# parameters-> name of the file , file to be dispalyed in the named file\n",
    "cv2.imwrite(\"lena_copy.png\",img)"
   ]
  },
  {
   "cell_type": "markdown",
   "metadata": {},
   "source": [
    "##### Customizing settings such as image is closed on pressing ESC and saved on predssing save button"
   ]
  },
  {
   "cell_type": "code",
   "execution_count": 7,
   "metadata": {},
   "outputs": [],
   "source": [
    "k=cv2.waitKey(0)\n",
    "\n",
    "# if key pressed is ESC close the window and if it is \"s\" save the window and close it\n",
    "if(k==27):\n",
    "    cv2.destroyAllWindows()\n",
    "elif k==ord('s'):\n",
    "    cv2.imwrite(\"lena_copy2.png\",img)\n",
    "    cv2.destroyAllWindows()"
   ]
  },
  {
   "cell_type": "markdown",
   "metadata": {},
   "source": [
    "### WORKING WITH VIDEOS"
   ]
  },
  {
   "cell_type": "code",
   "execution_count": 3,
   "metadata": {},
   "outputs": [
    {
     "name": "stdout",
     "output_type": "stream",
     "text": [
      "640.0 480.0\n",
      "640.0 480.0\n",
      "640.0 480.0\n",
      "640.0 480.0\n",
      "640.0 480.0\n",
      "640.0 480.0\n",
      "640.0 480.0\n",
      "640.0 480.0\n",
      "640.0 480.0\n",
      "640.0 480.0\n",
      "640.0 480.0\n",
      "640.0 480.0\n",
      "640.0 480.0\n",
      "640.0 480.0\n",
      "640.0 480.0\n",
      "640.0 480.0\n",
      "640.0 480.0\n",
      "640.0 480.0\n",
      "640.0 480.0\n",
      "640.0 480.0\n",
      "640.0 480.0\n",
      "640.0 480.0\n",
      "640.0 480.0\n",
      "640.0 480.0\n",
      "640.0 480.0\n",
      "640.0 480.0\n",
      "640.0 480.0\n",
      "640.0 480.0\n",
      "640.0 480.0\n",
      "640.0 480.0\n",
      "640.0 480.0\n",
      "640.0 480.0\n",
      "640.0 480.0\n",
      "640.0 480.0\n",
      "640.0 480.0\n",
      "640.0 480.0\n",
      "640.0 480.0\n",
      "640.0 480.0\n",
      "640.0 480.0\n",
      "640.0 480.0\n",
      "640.0 480.0\n",
      "640.0 480.0\n",
      "640.0 480.0\n",
      "640.0 480.0\n",
      "640.0 480.0\n",
      "640.0 480.0\n",
      "640.0 480.0\n",
      "640.0 480.0\n",
      "640.0 480.0\n",
      "640.0 480.0\n",
      "640.0 480.0\n",
      "640.0 480.0\n",
      "640.0 480.0\n",
      "640.0 480.0\n",
      "640.0 480.0\n",
      "640.0 480.0\n",
      "640.0 480.0\n",
      "640.0 480.0\n",
      "640.0 480.0\n",
      "640.0 480.0\n",
      "640.0 480.0\n",
      "640.0 480.0\n",
      "640.0 480.0\n",
      "640.0 480.0\n",
      "640.0 480.0\n",
      "640.0 480.0\n",
      "640.0 480.0\n",
      "640.0 480.0\n",
      "640.0 480.0\n",
      "640.0 480.0\n",
      "640.0 480.0\n",
      "640.0 480.0\n",
      "640.0 480.0\n"
     ]
    }
   ],
   "source": [
    "# parameter of Videocapture-> 0 for default camera\n",
    "cap=cv2.VideoCapture(0)\n",
    "\n",
    "# cap.isOpened() -> is true only when all information regarding the video is correct\n",
    "while(cap.isOpened()):\n",
    "    \n",
    "#     ret->boolean true or false that is checks whether the frame is present or not\n",
    "#     frame-> frame of the video\n",
    "    ret,frame=cap.read()\n",
    "    \n",
    "#     used to get the frame width and height res[ectively]\n",
    "    width=cap.get(cv2.CAP_PROP_FRAME_WIDTH)\n",
    "    height=cap.get(cv2.CAP_PROP_FRAME_HEIGHT)\n",
    "    print(width , height)\n",
    "    \n",
    "#     parameter-> name of the window , frames\n",
    "    cv2.imshow(\"Video\",frame)\n",
    "    \n",
    "#     if kwy pressed is \"q\" then quit\n",
    "    if(cv2.waitKey(1) & 0xFF == ord('q')):\n",
    "        break\n",
    "        \n",
    "#releases the window\n",
    "cap.release()\n",
    "\n",
    "# closes all the opened window\n",
    "cv2.destroyAllWindows()"
   ]
  },
  {
   "cell_type": "markdown",
   "metadata": {},
   "source": [
    "#### Converting video to grayscale"
   ]
  },
  {
   "cell_type": "code",
   "execution_count": 2,
   "metadata": {},
   "outputs": [],
   "source": [
    "# parameter of Videocapture-> 0 for default camera\n",
    "cap=cv2.VideoCapture(0)\n",
    "while(True):\n",
    "    \n",
    "#     ret->boolean true or false that is checks whether the frame is present or not\n",
    "#     frame-> frame of the video\n",
    "    ret,frame=cap.read()\n",
    "    \n",
    "#     converting the video into grayscale by passing colored t ogray parameter\n",
    "#  Parameters-> source , colr change\n",
    "    gray=cv2.cvtColor(frame,cv2.COLOR_BGR2GRAY)\n",
    "    \n",
    "#     parameter-> name of the window , frames\n",
    "    cv2.imshow(\"Video\",gray)\n",
    "    \n",
    "#     if key pressed is \"q\" then quit\n",
    "    if(cv2.waitKey(1) & 0xFF == ord('q')):\n",
    "        break\n",
    "        \n",
    "#releases the window\n",
    "cap.release()\n",
    "\n",
    "# closes all the opened window\n",
    "cv2.destroyAllWindows()"
   ]
  },
  {
   "cell_type": "markdown",
   "metadata": {},
   "source": [
    "### DRAWING GEOMETRIC SHAPES ON IMAGES"
   ]
  },
  {
   "cell_type": "code",
   "execution_count": 2,
   "metadata": {},
   "outputs": [],
   "source": [
    "img2=cv2.imread(\"data/lena.jpg\",1)\n",
    "cv2.imshow(\"image\",img2)\n",
    "cv2.waitKey(5000)\n",
    "cv2.destroyAllWindows()"
   ]
  },
  {
   "cell_type": "markdown",
   "metadata": {},
   "source": [
    "### Draw a line over the image"
   ]
  },
  {
   "cell_type": "code",
   "execution_count": 3,
   "metadata": {},
   "outputs": [],
   "source": [
    "# parameters - >\n",
    "#   source -> image over which line is to be drawn\n",
    "#     pt1-> initial co-ordinate of line\n",
    "#     pt2-> final co-ordinates of the line\n",
    "#     color -> (B,G,R)\n",
    "#     thickness - in range starting from 1\n",
    "img2_with_line=cv2.line(img2 , (0 , 0) , (255,255) , (0,255,0) , 1)\n",
    "cv2.imshow(\"image\",img2_with_line)\n",
    "cv2.waitKey(5000)\n",
    "cv2.destroyAllWindows()"
   ]
  },
  {
   "cell_type": "markdown",
   "metadata": {},
   "source": [
    "### Draw arrrowed line over the omage"
   ]
  },
  {
   "cell_type": "code",
   "execution_count": 4,
   "metadata": {},
   "outputs": [],
   "source": [
    "# parameters - >\n",
    "#   source -> image over which line is to be drawn\n",
    "#     pt1-> initial co-ordinate of line\n",
    "#     pt2-> final co-ordinates of the line\n",
    "#     color -> (B,G,R)\n",
    "#     thickness - in range starting from 1\n",
    "img2_with_arrowedline=cv2.arrowedLine(img2 , (0 , 0) , (255,255) , (0,255,0) , 1)\n",
    "cv2.imshow(\"image\",img2_with_arrowedline)\n",
    "cv2.waitKey(5000)\n",
    "cv2.destroyAllWindows()"
   ]
  },
  {
   "cell_type": "markdown",
   "metadata": {},
   "source": [
    "### Draw rectangle"
   ]
  },
  {
   "cell_type": "code",
   "execution_count": 6,
   "metadata": {},
   "outputs": [],
   "source": [
    "# parameters - >\n",
    "#   source -> image over which rectangle is to be drawn\n",
    "#     pt1-> top-left co-ordinate of rectangle\n",
    "#     pt2->  bottom-right co-ordinate of rectangle\n",
    "#     color -> (B,G,R)\n",
    "#     thickness - in range starting from 1\n",
    "img2_with_rectangle=cv2.rectangle(img2 , (384 , 0) , (510,128) , (255,0,0) , 5)\n",
    "cv2.imshow(\"image\",img2_with_rectangle)\n",
    "cv2.waitKey(5000)\n",
    "cv2.destroyAllWindows()"
   ]
  },
  {
   "cell_type": "markdown",
   "metadata": {},
   "source": [
    "#### Filling the rectangle with color"
   ]
  },
  {
   "cell_type": "markdown",
   "metadata": {},
   "source": [
    "##### Provide thickness as -1"
   ]
  },
  {
   "cell_type": "code",
   "execution_count": 9,
   "metadata": {},
   "outputs": [],
   "source": [
    "# parameters - >\n",
    "#   source -> image over which filled rectangle is to be drawn\n",
    "#     pt1-> top-left co-ordinate of rectangle\n",
    "#     pt2->  bottom-right co-ordinate of rectangle\n",
    "#     color -> (B,G,R)\n",
    "#     thickness - in range starting from 1\n",
    "img2_with_rectangle=cv2.rectangle(img2 , (384 , 0) , (510,128) , (255,0,0) , -1)\n",
    "cv2.imshow(\"image\",img2_with_rectangle)\n",
    "cv2.waitKey(5000)\n",
    "cv2.destroyAllWindows()"
   ]
  },
  {
   "cell_type": "markdown",
   "metadata": {},
   "source": [
    "### Drawing circle"
   ]
  },
  {
   "cell_type": "code",
   "execution_count": 11,
   "metadata": {},
   "outputs": [],
   "source": [
    "# parameters->\n",
    "#     source - image over which circle is to be drawn\n",
    "#     pt1-> co-ordinates of center if circle\n",
    "#     radius of circle\n",
    "#     thickness of circle\n",
    "img2_with_circle=cv2.circle(img2 , (0,0) , 63 , (0,255,0) , -1)\n",
    "cv2.imshow(\"image\",img2_with_circle)\n",
    "cv2.waitKey(5000)\n",
    "cv2.destroyAllWindows()"
   ]
  },
  {
   "cell_type": "markdown",
   "metadata": {},
   "source": [
    "### Writing text over image"
   ]
  },
  {
   "cell_type": "code",
   "execution_count": 16,
   "metadata": {},
   "outputs": [],
   "source": [
    "# parameters->\n",
    "#     source of image\n",
    "#     text to be written\n",
    "#     starting - poition of text\n",
    "#     font - face\n",
    "#     size of font\n",
    "#     color of text\n",
    "#     thickness of line\n",
    "#     line type\n",
    "font=cv2.FONT_HERSHEY_COMPLEX\n",
    "img2_with_text=cv2.putText(img2 , \"OpenCV\" ,(10,500), font , 4 , (0,255,0) , 5 , cv2.LINE_AA)\n",
    "cv2.imshow(\"image\",img2_with_text)\n",
    "cv2.waitKey(5000)\n",
    "cv2.destroyAllWindows()"
   ]
  },
  {
   "cell_type": "markdown",
   "metadata": {},
   "source": [
    "### Creating image using numpy zeroes method"
   ]
  },
  {
   "cell_type": "code",
   "execution_count": 17,
   "metadata": {},
   "outputs": [],
   "source": [
    "import numpy as np\n",
    "# np.zeroes([height , width , length] , datatype)\n",
    "#  gives black image->\n",
    "img3=np.zeros([512,512,3],np.uint8)\n",
    "cv2.imshow(\"image\",img3)\n",
    "cv2.waitKey(5000)\n",
    "cv2.destroyAllWindows()"
   ]
  },
  {
   "cell_type": "markdown",
   "metadata": {},
   "source": [
    "## ADDING TEXT TO VIDEO"
   ]
  },
  {
   "cell_type": "markdown",
   "metadata": {},
   "source": [
    "#### Adding present date and time"
   ]
  },
  {
   "cell_type": "code",
   "execution_count": 2,
   "metadata": {},
   "outputs": [],
   "source": [
    "# import datetime to get present date time\n",
    "import datetime\n",
    "\n",
    "# parameter of Videocapture-> 0 for default camera\n",
    "cap=cv2.VideoCapture(0)\n",
    "while(True):\n",
    "    \n",
    "#     ret->boolean true or false that is checks whether the frame is present or not\n",
    "#     frame-> frame of the video\n",
    "    ret,frame=cap.read()\n",
    "    \n",
    "#     converting the video into grayscale by passing colored t ogray parameter\n",
    "#  Parameters-> source , colr change\n",
    "    gray=cv2.cvtColor(frame,cv2.COLOR_BGR2GRAY)\n",
    "    \n",
    "#     PARAMETERS\n",
    "#     source\n",
    "#     text\n",
    "#     initial co-ordinate of the text\n",
    "#     font family\n",
    "#     font - scale\n",
    "#     color\n",
    "#     thickness\n",
    "#     line type\n",
    "    font=cv2.FONT_HERSHEY_COMPLEX\n",
    "    present_datetime=str(datetime.datetime.now())\n",
    "    gray=cv2.putText(gray , present_datetime , (10,50) , font , 1 , (0,255,255) , 2 , cv2.LINE_AA)\n",
    "    \n",
    "    \n",
    "#     parameter-> name of the window , frames\n",
    "    cv2.imshow(\"Video\",gray)\n",
    "    \n",
    "#     if kwy pressed is \"q\" then quit\n",
    "    if(cv2.waitKey(1) & 0xFF == ord('q')):\n",
    "        break\n",
    "        \n",
    "#releases the window\n",
    "cap.release()\n",
    "\n",
    "# closes all the opened window\n",
    "cv2.destroyAllWindows()"
   ]
  },
  {
   "cell_type": "markdown",
   "metadata": {},
   "source": [
    "## HANDLING MOUSE EVENTS IN CV2"
   ]
  },
  {
   "cell_type": "markdown",
   "metadata": {},
   "source": [
    "#### seeing all the events present in cv2 directory"
   ]
  },
  {
   "cell_type": "code",
   "execution_count": 8,
   "metadata": {},
   "outputs": [
    {
     "name": "stdout",
     "output_type": "stream",
     "text": [
      "['EVENT_FLAG_ALTKEY', 'EVENT_FLAG_CTRLKEY', 'EVENT_FLAG_LBUTTON', 'EVENT_FLAG_MBUTTON', 'EVENT_FLAG_RBUTTON', 'EVENT_FLAG_SHIFTKEY', 'EVENT_LBUTTONDBLCLK', 'EVENT_LBUTTONDOWN', 'EVENT_LBUTTONUP', 'EVENT_MBUTTONDBLCLK', 'EVENT_MBUTTONDOWN', 'EVENT_MBUTTONUP', 'EVENT_MOUSEHWHEEL', 'EVENT_MOUSEMOVE', 'EVENT_MOUSEWHEEL', 'EVENT_RBUTTONDBLCLK', 'EVENT_RBUTTONDOWN', 'EVENT_RBUTTONUP']\n"
     ]
    }
   ],
   "source": [
    "events= [i for i in dir(cv2) if \"EVENT\" in i]\n",
    "print(events)"
   ]
  },
  {
   "cell_type": "code",
   "execution_count": 19,
   "metadata": {},
   "outputs": [
    {
     "name": "stdout",
     "output_type": "stream",
     "text": [
      "coordinate:(230,271)\n",
      "color:(R234,B89,G88)\n",
      "coordinate:(227,120)\n",
      "color:(R134,B220,G191)\n",
      "coordinate:(231,39)\n",
      "color:(R145,B115,G139)\n",
      "coordinate:(112,238)\n",
      "color:(R231,B62,G82)\n",
      "coordinate:(401,281)\n",
      "color:(R160,B163,G137)\n",
      "coordinate:(69,370)\n",
      "color:(R47,B33,G62)\n",
      "coordinate:(64,116)\n",
      "color:(R99,B51,G84)\n",
      "coordinate:(221,442)\n",
      "coordinate:(400,130)\n",
      "coordinate:(389,248)\n"
     ]
    }
   ],
   "source": [
    "imgg=cv2.imread(\"data/baboon.jpg\" , 1)\n",
    "cv2.imshow(\"image\" , imgg)\n",
    "\n",
    "def click_event(event , x , y , flags , param):\n",
    "    if(event == cv2.EVENT_LBUTTONDOWN):\n",
    "#         shows the co-ordinate of the point clicked\n",
    "        cordinates=\"coordinate:(\" + str(x) + \",\" + str(y) + \")\"\n",
    "        print(cordinates)\n",
    "        font=cv2.FONT_HERSHEY_COMPLEX\n",
    "        textt=str(x) + \" , \" + str(y)\n",
    "        cv2.putText(imgg , textt , (x,y) , font , 0.5 , (0,255,255) , 2 , cv2.LINE_AA)\n",
    "        cv2.imshow(\"image\" , imgg)\n",
    "    if(event == cv2.EVENT_RBUTTONDOWN):\n",
    "#         shows the color of the location clicked\n",
    "        blue = imgg[y , x , 0]\n",
    "        green = imgg[y , x , 1]\n",
    "        red = imgg[y , x , 2]\n",
    "        colourr=\"color:\" + \"(\"+\"R\"+str(red) + \",\" + \"B\"+str(blue)+ \",\" + \"G\"+str(green)+\")\"\n",
    "        print(colourr)\n",
    "        font=cv2.FONT_HERSHEY_COMPLEX\n",
    "        textt=str(blue) + \",\" + str(green)+\",\"+str(red)\n",
    "        cv2.putText(imgg , textt , (x,y) , font , 0.5 , (255,0,0) , 2 , cv2.LINE_AA)\n",
    "        cv2.imshow(\"image\" , imgg)\n",
    "# parameters:\n",
    "# window name\n",
    "# function name in clicking the image\n",
    "cv2.setMouseCallback(\"image\" , click_event)\n",
    "\n",
    "cv2.waitKey(10000)\n",
    "cv2.destroyAllWindows()"
   ]
  },
  {
   "cell_type": "markdown",
   "metadata": {},
   "source": [
    "### DRAWING LINES OVER IMAGE"
   ]
  },
  {
   "cell_type": "code",
   "execution_count": null,
   "metadata": {},
   "outputs": [],
   "source": [
    "import numpy as np \n",
    "\n",
    "imgg=cv2.imread(\"data/baboon.jpg\" , 1)\n",
    "cv2.imshow(\"image\" , imgg)\n",
    "points=[]\n",
    "\n",
    "def click_event(event , x ,y ,flags , param):\n",
    "    if(event == cv2.EVENT_LBUTTONDOWN):\n",
    "        points.append((x,y))\n",
    "        cv2.circle(imgg , (x,y) , 5 , (0,0,255) , -1)\n",
    "        if(len(points) >=2 ):\n",
    "            cv2.line(imgg , points[-1] , points[-2] , (255,0,0) ,4)\n",
    "        cv2.imshow(\"image\" , imgg)\n",
    "    if(event == cv2.EVENT_RBUTTONDOWN):\n",
    "#         shows the color of the location clicked in another window\n",
    "        blue = imgg[y , x , 0]\n",
    "        green = imgg[y , x , 1]\n",
    "        red = imgg[y , x , 2]\n",
    "        \n",
    "        my_color_image = np.zeros((512,512,3) , np.uint8)\n",
    "        my_color_image[:] = [blue , green , red]\n",
    "        cv2.imshow(\"color\" , my_color_image)\n",
    "        cv2.waitKey(5000)\n",
    "        cv2.destroyAllWindows()\n",
    "        \n",
    "cv2.setMouseCallback(\"image\" , click_event)\n",
    "\n",
    "cv2.waitKey(10000)\n",
    "cv2.destroyAllWindows()"
   ]
  },
  {
   "cell_type": "code",
   "execution_count": null,
   "metadata": {},
   "outputs": [],
   "source": []
  },
  {
   "cell_type": "code",
   "execution_count": null,
   "metadata": {},
   "outputs": [],
   "source": []
  }
 ],
 "metadata": {
  "kernelspec": {
   "display_name": "Python 3",
   "language": "python",
   "name": "python3"
  },
  "language_info": {
   "codemirror_mode": {
    "name": "ipython",
    "version": 3
   },
   "file_extension": ".py",
   "mimetype": "text/x-python",
   "name": "python",
   "nbconvert_exporter": "python",
   "pygments_lexer": "ipython3",
   "version": "3.8.3"
  }
 },
 "nbformat": 4,
 "nbformat_minor": 4
}
