{
 "cells": [
  {
   "cell_type": "markdown",
   "metadata": {},
   "source": [
    "# WORKING WITH PILLOW"
   ]
  },
  {
   "cell_type": "code",
   "execution_count": 2,
   "metadata": {},
   "outputs": [],
   "source": [
    "from PIL import Image\n",
    "#Open image using Image module\n",
    "im = Image.open(\"lena.jpg\")\n",
    "#Show actual Image\n",
    "im.show()"
   ]
  },
  {
   "cell_type": "code",
   "execution_count": 11,
   "metadata": {},
   "outputs": [
    {
     "data": {
      "text/plain": [
       "{'jfif': 257,\n",
       " 'jfif_version': (1, 1),\n",
       " 'dpi': (73, 73),\n",
       " 'jfif_unit': 1,\n",
       " 'jfif_density': (73, 73),\n",
       " 'comment': b'Handmade Software, Inc. Image Alchemy v1.9\\n'}"
      ]
     },
     "execution_count": 11,
     "metadata": {},
     "output_type": "execute_result"
    }
   ],
   "source": [
    "im.info"
   ]
  },
  {
   "cell_type": "code",
   "execution_count": 3,
   "metadata": {},
   "outputs": [],
   "source": [
    "#show rotated image\n",
    "im=im.rotate(45)\n",
    "im.show()"
   ]
  },
  {
   "cell_type": "code",
   "execution_count": 4,
   "metadata": {},
   "outputs": [
    {
     "data": {
      "text/plain": [
       "'RGB'"
      ]
     },
     "execution_count": 4,
     "metadata": {},
     "output_type": "execute_result"
    }
   ],
   "source": [
    "im.mode"
   ]
  },
  {
   "cell_type": "code",
   "execution_count": 9,
   "metadata": {},
   "outputs": [
    {
     "data": {
      "text/plain": [
       "(512, 512)"
      ]
     },
     "execution_count": 9,
     "metadata": {},
     "output_type": "execute_result"
    }
   ],
   "source": [
    "im.size"
   ]
  },
  {
   "cell_type": "code",
   "execution_count": 16,
   "metadata": {},
   "outputs": [],
   "source": [
    "# saving the image\n",
    "im.save(\"lena_copy.png\")"
   ]
  },
  {
   "cell_type": "markdown",
   "metadata": {},
   "source": [
    "## preserving the aspect ratio of image"
   ]
  },
  {
   "cell_type": "code",
   "execution_count": 19,
   "metadata": {},
   "outputs": [],
   "source": [
    "from PIL import Image\n",
    "def tnails():\n",
    "    try:\n",
    "        image = Image.open(\"baboon.jpg\")\n",
    "        image.thumbnail((90,90))\n",
    "        image.save(\"baboon_resized.jpg\")\n",
    "        image1=Image.open(\"baboon_resized.jpg\")\n",
    "        image1.show()\n",
    "    except IOError:\n",
    "      pass\n",
    "tnails()"
   ]
  },
  {
   "cell_type": "markdown",
   "metadata": {},
   "source": [
    "### merging "
   ]
  },
  {
   "cell_type": "code",
   "execution_count": 20,
   "metadata": {},
   "outputs": [],
   "source": [
    "from PIL import Image\n",
    "#Read the two images\n",
    "image1 = Image.open('lena.jpg')\n",
    "image2 = Image.open('baboon.jpg')\n",
    "#resize, first image\n",
    "image1 = image1.resize((426, 240))\n",
    "image1_size = image1.size\n",
    "image2_size = image2.size\n",
    "new_image = Image.new('RGB',(2*image1_size[0], image1_size[1]), (250,250,250))\n",
    "new_image.paste(image1,(0,0))\n",
    "new_image.paste(image2,(image1_size[0],0))\n",
    "new_image.save(\"merged_image.jpg\",\"JPEG\")\n",
    "new_image.show()"
   ]
  },
  {
   "cell_type": "markdown",
   "metadata": {},
   "source": [
    "#### Merging modes of image"
   ]
  },
  {
   "cell_type": "code",
   "execution_count": 22,
   "metadata": {},
   "outputs": [],
   "source": [
    "from PIL import Image\n",
    "image = Image.open(\"lena.jpg\")\n",
    "r, g, b = image.split()\n",
    "image = Image.merge(\"RGB\", (b, g, r))\n",
    "image.show()"
   ]
  },
  {
   "cell_type": "markdown",
   "metadata": {},
   "source": [
    "## BLURRING IMAGE"
   ]
  },
  {
   "cell_type": "markdown",
   "metadata": {},
   "source": [
    "#### Simple blur"
   ]
  },
  {
   "cell_type": "code",
   "execution_count": 38,
   "metadata": {},
   "outputs": [],
   "source": [
    "from PIL import Image , ImageFilter\n",
    "img=Image.open(\"lena.jpg\")\n",
    "img=img.filter(ImageFilter.BLUR)\n",
    "img.save(\"lena_simple_blur.jpg\")\n",
    "img.show()"
   ]
  },
  {
   "cell_type": "markdown",
   "metadata": {},
   "source": [
    "#### Box Blur"
   ]
  },
  {
   "cell_type": "markdown",
   "metadata": {},
   "source": [
    "**In this filter, we use ‘radius’ as parameter. Radius is directly proportional to the blur value.**"
   ]
  },
  {
   "cell_type": "code",
   "execution_count": 39,
   "metadata": {},
   "outputs": [],
   "source": [
    "from PIL import Image , ImageFilter\n",
    "img=Image.open(\"lena.jpg\")\n",
    "\n",
    "# takes radius as parameter \n",
    "img=img.filter(ImageFilter.BoxBlur(5))\n",
    "img.save(\"lena_box_blur.jpg\")\n",
    "img.show()"
   ]
  },
  {
   "cell_type": "markdown",
   "metadata": {},
   "source": [
    "#### Gaussian Blur"
   ]
  },
  {
   "cell_type": "markdown",
   "metadata": {},
   "source": [
    "**This filter also uses parameter radius and does the same work as box blur with some algorithmic changes. In short, changing the radius value, will generate different intensity of ‘Gaussianblur’ images.** "
   ]
  },
  {
   "cell_type": "code",
   "execution_count": 41,
   "metadata": {},
   "outputs": [],
   "source": [
    "from PIL import Image , ImageFilter\n",
    "img=Image.open(\"lena.jpg\")\n",
    "\n",
    "# takes radius as parameter \n",
    "img=img.filter(ImageFilter.GaussianBlur(10))\n",
    "img.save(\"lena_gaussian_blur.jpg\")\n",
    "img.show()"
   ]
  },
  {
   "cell_type": "markdown",
   "metadata": {},
   "source": [
    "## Cropping the image"
   ]
  },
  {
   "cell_type": "code",
   "execution_count": 32,
   "metadata": {},
   "outputs": [],
   "source": [
    "#Import required Image library\n",
    "from PIL import Image\n",
    "\n",
    "#Create an Image Object from an Image\n",
    "im = Image.open('lena.jpg')\n",
    "\n",
    "#left, upper, right, lower\n",
    "#Crop\n",
    "cropped = im.crop((1,2,300,300))\n",
    "\n",
    "cropped.save(\"cropped.jpg\")\n",
    "#Display the cropped portion\n",
    "cropped.show()"
   ]
  },
  {
   "cell_type": "markdown",
   "metadata": {},
   "source": [
    "## Flipping the image"
   ]
  },
  {
   "cell_type": "markdown",
   "metadata": {},
   "source": [
    "**Horizontally flipped Image**"
   ]
  },
  {
   "cell_type": "code",
   "execution_count": 43,
   "metadata": {},
   "outputs": [],
   "source": [
    "# import required image module\n",
    "from PIL import Image\n",
    "\n",
    "# Open an already existing image\n",
    "imageObject = Image.open(\"lena.jpg\")\n",
    "\n",
    "# Do a flip of left and right\n",
    "hori_flippedImage = imageObject.transpose(Image.FLIP_LEFT_RIGHT)\n",
    "\n",
    "# Show the original image\n",
    "hori_flippedImage.save(\"lena_horizontally_flipped.jpg\")\n",
    "# Show the horizontal flipped image\n",
    "hori_flippedImage.show()"
   ]
  },
  {
   "cell_type": "markdown",
   "metadata": {},
   "source": [
    "**Vertically Flipped Image**"
   ]
  },
  {
   "cell_type": "code",
   "execution_count": 44,
   "metadata": {},
   "outputs": [],
   "source": [
    "# import required image module\n",
    "from PIL import Image\n",
    "\n",
    "# Open an already existing image\n",
    "imageObject = Image.open(\"lena.jpg\")\n",
    "\n",
    "\n",
    "# Show vertically flipped image\n",
    "Vert_flippedImage = imageObject.transpose(Image.FLIP_TOP_BOTTOM)\n",
    "Vert_flippedImage.save(\"lena_vertically_flipped.jpg\")\n",
    "Vert_flippedImage.show()"
   ]
  },
  {
   "cell_type": "markdown",
   "metadata": {},
   "source": [
    "**Rotate Image to a specific degree**"
   ]
  },
  {
   "cell_type": "code",
   "execution_count": 46,
   "metadata": {},
   "outputs": [],
   "source": [
    "# import required image module\n",
    "from PIL import Image\n",
    "\n",
    "# Open an already existing image\n",
    "imageObject = Image.open(\"lena.jpg\")\n",
    "\n",
    "\n",
    "#show 90 degree flipped image\n",
    "degree_flippedImage = imageObject.transpose(Image.ROTATE_90)\n",
    "degree_flippedImage.save(\"lena_rotate90.jpg\")\n",
    "degree_flippedImage.show()"
   ]
  },
  {
   "cell_type": "markdown",
   "metadata": {},
   "source": [
    "### Resize the image"
   ]
  },
  {
   "cell_type": "code",
   "execution_count": 48,
   "metadata": {},
   "outputs": [],
   "source": [
    "#Import required Image library\n",
    "from PIL import Image\n",
    "\n",
    "#Create an Image Object from an Image\n",
    "im = Image.open(\"baboon.jpg\")\n",
    "\n",
    "#Make the new image half the width and half the height of the original image\n",
    "resized_im = im.resize((round(im.size[0]*0.5), round(im.size[1]*0.5)))\n",
    "\n",
    "#Display the resized imaged\n",
    "resized_im.show()\n",
    "\n",
    "#Save the cropped image\n",
    "resized_im.save('resizedBabbon.jpg')"
   ]
  },
  {
   "cell_type": "markdown",
   "metadata": {},
   "source": [
    "### Adding watermark to the image"
   ]
  },
  {
   "cell_type": "code",
   "execution_count": 55,
   "metadata": {},
   "outputs": [
    {
     "data": {
      "text/plain": [
       "<PIL.ImageDraw.ImageDraw at 0x7f475cb596d0>"
      ]
     },
     "execution_count": 55,
     "metadata": {},
     "output_type": "execute_result"
    }
   ],
   "source": [
    "#Import required Image library\n",
    "from PIL import Image, ImageDraw, ImageFont\n",
    "\n",
    "#Create an Image Object from an Image\n",
    "im = Image.open('baboon.jpg')\n",
    "width, height = im.size\n",
    "\n",
    "draw = ImageDraw.Draw(im)\n",
    "text = \"sample watermark\"\n",
    "\n",
    "draw"
   ]
  },
  {
   "cell_type": "markdown",
   "metadata": {},
   "source": [
    "**The ImageDraw module provides simple 2D graphics for Image objects. You can use this module to create new images, annotate or retouch existing images, and to generate graphics on the fly for web use.**"
   ]
  },
  {
   "cell_type": "code",
   "execution_count": 63,
   "metadata": {},
   "outputs": [
    {
     "name": "stdout",
     "output_type": "stream",
     "text": [
      "129 15\n"
     ]
    }
   ],
   "source": [
    "# use a truetype font\n",
    "font = ImageFont.truetype(\"UbuntuMono-RI.ttf\", 15)\n",
    "textwidth, textheight = draw.textsize(text, font)\n",
    "\n",
    "print(textwidth , textheight)"
   ]
  },
  {
   "cell_type": "code",
   "execution_count": 64,
   "metadata": {},
   "outputs": [],
   "source": [
    "# calculate the x,y coordinates of the text\n",
    "margin = 10\n",
    "x = width - textwidth - margin\n",
    "y = height - textheight - margin\n",
    "\n",
    "# draw watermark in the bottom right corner\n",
    "draw.text((x, y), text, font=font)\n",
    "im.show()\n",
    "\n",
    "#Save watermarked image\n",
    "im.save('babbon_watermark.jpg')"
   ]
  },
  {
   "cell_type": "markdown",
   "metadata": {},
   "source": [
    "## FILTERING IMAGE"
   ]
  },
  {
   "cell_type": "code",
   "execution_count": null,
   "metadata": {},
   "outputs": [],
   "source": []
  }
 ],
 "metadata": {
  "kernelspec": {
   "display_name": "Python 3",
   "language": "python",
   "name": "python3"
  },
  "language_info": {
   "codemirror_mode": {
    "name": "ipython",
    "version": 3
   },
   "file_extension": ".py",
   "mimetype": "text/x-python",
   "name": "python",
   "nbconvert_exporter": "python",
   "pygments_lexer": "ipython3",
   "version": "3.8.3"
  }
 },
 "nbformat": 4,
 "nbformat_minor": 4
}
