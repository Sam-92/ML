{
 "cells": [
  {
   "cell_type": "code",
   "execution_count": 2,
   "metadata": {},
   "outputs": [],
   "source": [
    "import tensorflow as tf"
   ]
  },
  {
   "cell_type": "markdown",
   "metadata": {},
   "source": [
    "## LOAD VGG-16 through keras.application"
   ]
  },
  {
   "cell_type": "code",
   "execution_count": 3,
   "metadata": {},
   "outputs": [],
   "source": [
    "model=tf.keras.applications.VGG16(weights='imagenet')"
   ]
  },
  {
   "cell_type": "code",
   "execution_count": 4,
   "metadata": {},
   "outputs": [
    {
     "name": "stdout",
     "output_type": "stream",
     "text": [
      "Model: \"vgg16\"\n",
      "_________________________________________________________________\n",
      "Layer (type)                 Output Shape              Param #   \n",
      "=================================================================\n",
      "input_1 (InputLayer)         [(None, 224, 224, 3)]     0         \n",
      "_________________________________________________________________\n",
      "block1_conv1 (Conv2D)        (None, 224, 224, 64)      1792      \n",
      "_________________________________________________________________\n",
      "block1_conv2 (Conv2D)        (None, 224, 224, 64)      36928     \n",
      "_________________________________________________________________\n",
      "block1_pool (MaxPooling2D)   (None, 112, 112, 64)      0         \n",
      "_________________________________________________________________\n",
      "block2_conv1 (Conv2D)        (None, 112, 112, 128)     73856     \n",
      "_________________________________________________________________\n",
      "block2_conv2 (Conv2D)        (None, 112, 112, 128)     147584    \n",
      "_________________________________________________________________\n",
      "block2_pool (MaxPooling2D)   (None, 56, 56, 128)       0         \n",
      "_________________________________________________________________\n",
      "block3_conv1 (Conv2D)        (None, 56, 56, 256)       295168    \n",
      "_________________________________________________________________\n",
      "block3_conv2 (Conv2D)        (None, 56, 56, 256)       590080    \n",
      "_________________________________________________________________\n",
      "block3_conv3 (Conv2D)        (None, 56, 56, 256)       590080    \n",
      "_________________________________________________________________\n",
      "block3_pool (MaxPooling2D)   (None, 28, 28, 256)       0         \n",
      "_________________________________________________________________\n",
      "block4_conv1 (Conv2D)        (None, 28, 28, 512)       1180160   \n",
      "_________________________________________________________________\n",
      "block4_conv2 (Conv2D)        (None, 28, 28, 512)       2359808   \n",
      "_________________________________________________________________\n",
      "block4_conv3 (Conv2D)        (None, 28, 28, 512)       2359808   \n",
      "_________________________________________________________________\n",
      "block4_pool (MaxPooling2D)   (None, 14, 14, 512)       0         \n",
      "_________________________________________________________________\n",
      "block5_conv1 (Conv2D)        (None, 14, 14, 512)       2359808   \n",
      "_________________________________________________________________\n",
      "block5_conv2 (Conv2D)        (None, 14, 14, 512)       2359808   \n",
      "_________________________________________________________________\n",
      "block5_conv3 (Conv2D)        (None, 14, 14, 512)       2359808   \n",
      "_________________________________________________________________\n",
      "block5_pool (MaxPooling2D)   (None, 7, 7, 512)         0         \n",
      "_________________________________________________________________\n",
      "flatten (Flatten)            (None, 25088)             0         \n",
      "_________________________________________________________________\n",
      "fc1 (Dense)                  (None, 4096)              102764544 \n",
      "_________________________________________________________________\n",
      "fc2 (Dense)                  (None, 4096)              16781312  \n",
      "_________________________________________________________________\n",
      "predictions (Dense)          (None, 1000)              4097000   \n",
      "=================================================================\n",
      "Total params: 138,357,544\n",
      "Trainable params: 138,357,544\n",
      "Non-trainable params: 0\n",
      "_________________________________________________________________\n"
     ]
    }
   ],
   "source": [
    "model.summary()"
   ]
  },
  {
   "cell_type": "markdown",
   "metadata": {},
   "source": [
    "### Iterating through layers"
   ]
  },
  {
   "cell_type": "code",
   "execution_count": 5,
   "metadata": {},
   "outputs": [
    {
     "name": "stdout",
     "output_type": "stream",
     "text": [
      "input_1 \t True \t Tensor(\"input_1:0\", shape=(None, 224, 224, 3), dtype=float32)\n",
      "block1_conv1 \t True \t Tensor(\"block1_conv1/Relu:0\", shape=(None, 224, 224, 64), dtype=float32)\n",
      "block1_conv2 \t True \t Tensor(\"block1_conv2/Relu:0\", shape=(None, 224, 224, 64), dtype=float32)\n",
      "block1_pool \t True \t Tensor(\"block1_pool/MaxPool:0\", shape=(None, 112, 112, 64), dtype=float32)\n",
      "block2_conv1 \t True \t Tensor(\"block2_conv1/Relu:0\", shape=(None, 112, 112, 128), dtype=float32)\n",
      "block2_conv2 \t True \t Tensor(\"block2_conv2/Relu:0\", shape=(None, 112, 112, 128), dtype=float32)\n",
      "block2_pool \t True \t Tensor(\"block2_pool/MaxPool:0\", shape=(None, 56, 56, 128), dtype=float32)\n",
      "block3_conv1 \t True \t Tensor(\"block3_conv1/Relu:0\", shape=(None, 56, 56, 256), dtype=float32)\n",
      "block3_conv2 \t True \t Tensor(\"block3_conv2/Relu:0\", shape=(None, 56, 56, 256), dtype=float32)\n",
      "block3_conv3 \t True \t Tensor(\"block3_conv3/Relu:0\", shape=(None, 56, 56, 256), dtype=float32)\n",
      "block3_pool \t True \t Tensor(\"block3_pool/MaxPool:0\", shape=(None, 28, 28, 256), dtype=float32)\n",
      "block4_conv1 \t True \t Tensor(\"block4_conv1/Relu:0\", shape=(None, 28, 28, 512), dtype=float32)\n",
      "block4_conv2 \t True \t Tensor(\"block4_conv2/Relu:0\", shape=(None, 28, 28, 512), dtype=float32)\n",
      "block4_conv3 \t True \t Tensor(\"block4_conv3/Relu:0\", shape=(None, 28, 28, 512), dtype=float32)\n",
      "block4_pool \t True \t Tensor(\"block4_pool/MaxPool:0\", shape=(None, 14, 14, 512), dtype=float32)\n",
      "block5_conv1 \t True \t Tensor(\"block5_conv1/Relu:0\", shape=(None, 14, 14, 512), dtype=float32)\n",
      "block5_conv2 \t True \t Tensor(\"block5_conv2/Relu:0\", shape=(None, 14, 14, 512), dtype=float32)\n",
      "block5_conv3 \t True \t Tensor(\"block5_conv3/Relu:0\", shape=(None, 14, 14, 512), dtype=float32)\n",
      "block5_pool \t True \t Tensor(\"block5_pool/MaxPool:0\", shape=(None, 7, 7, 512), dtype=float32)\n",
      "flatten \t True \t Tensor(\"flatten/Reshape:0\", shape=(None, 25088), dtype=float32)\n",
      "fc1 \t True \t Tensor(\"fc1/Relu:0\", shape=(None, 4096), dtype=float32)\n",
      "fc2 \t True \t Tensor(\"fc2/Relu:0\", shape=(None, 4096), dtype=float32)\n",
      "predictions \t True \t Tensor(\"predictions/Softmax:0\", shape=(None, 1000), dtype=float32)\n"
     ]
    }
   ],
   "source": [
    "for layer in model.layers:\n",
    "    print(f'{layer.name} \\t {layer.trainable} \\t {layer.output}')"
   ]
  },
  {
   "cell_type": "code",
   "execution_count": 6,
   "metadata": {},
   "outputs": [
    {
     "data": {
      "text/plain": [
       "<tensorflow.python.keras.layers.core.Dense at 0x7fb1106de6d0>"
      ]
     },
     "execution_count": 6,
     "metadata": {},
     "output_type": "execute_result"
    }
   ],
   "source": [
    "layer"
   ]
  },
  {
   "cell_type": "code",
   "execution_count": 7,
   "metadata": {},
   "outputs": [
    {
     "data": {
      "text/plain": [
       "'predictions'"
      ]
     },
     "execution_count": 7,
     "metadata": {},
     "output_type": "execute_result"
    }
   ],
   "source": [
    "layer.name"
   ]
  },
  {
   "cell_type": "markdown",
   "metadata": {},
   "source": [
    "## Changing output to another layer( say -> block4_pool)"
   ]
  },
  {
   "cell_type": "code",
   "execution_count": 8,
   "metadata": {},
   "outputs": [],
   "source": [
    "model=tf.keras.Model(inputs=model.input , outputs=model.get_layer('block4_pool').output)"
   ]
  },
  {
   "cell_type": "code",
   "execution_count": 9,
   "metadata": {},
   "outputs": [
    {
     "name": "stdout",
     "output_type": "stream",
     "text": [
      "Model: \"functional_1\"\n",
      "_________________________________________________________________\n",
      "Layer (type)                 Output Shape              Param #   \n",
      "=================================================================\n",
      "input_1 (InputLayer)         [(None, 224, 224, 3)]     0         \n",
      "_________________________________________________________________\n",
      "block1_conv1 (Conv2D)        (None, 224, 224, 64)      1792      \n",
      "_________________________________________________________________\n",
      "block1_conv2 (Conv2D)        (None, 224, 224, 64)      36928     \n",
      "_________________________________________________________________\n",
      "block1_pool (MaxPooling2D)   (None, 112, 112, 64)      0         \n",
      "_________________________________________________________________\n",
      "block2_conv1 (Conv2D)        (None, 112, 112, 128)     73856     \n",
      "_________________________________________________________________\n",
      "block2_conv2 (Conv2D)        (None, 112, 112, 128)     147584    \n",
      "_________________________________________________________________\n",
      "block2_pool (MaxPooling2D)   (None, 56, 56, 128)       0         \n",
      "_________________________________________________________________\n",
      "block3_conv1 (Conv2D)        (None, 56, 56, 256)       295168    \n",
      "_________________________________________________________________\n",
      "block3_conv2 (Conv2D)        (None, 56, 56, 256)       590080    \n",
      "_________________________________________________________________\n",
      "block3_conv3 (Conv2D)        (None, 56, 56, 256)       590080    \n",
      "_________________________________________________________________\n",
      "block3_pool (MaxPooling2D)   (None, 28, 28, 256)       0         \n",
      "_________________________________________________________________\n",
      "block4_conv1 (Conv2D)        (None, 28, 28, 512)       1180160   \n",
      "_________________________________________________________________\n",
      "block4_conv2 (Conv2D)        (None, 28, 28, 512)       2359808   \n",
      "_________________________________________________________________\n",
      "block4_conv3 (Conv2D)        (None, 28, 28, 512)       2359808   \n",
      "_________________________________________________________________\n",
      "block4_pool (MaxPooling2D)   (None, 14, 14, 512)       0         \n",
      "=================================================================\n",
      "Total params: 7,635,264\n",
      "Trainable params: 7,635,264\n",
      "Non-trainable params: 0\n",
      "_________________________________________________________________\n"
     ]
    }
   ],
   "source": [
    "model.summary()"
   ]
  },
  {
   "cell_type": "code",
   "execution_count": 10,
   "metadata": {},
   "outputs": [
    {
     "data": {
      "text/plain": [
       "<tf.Tensor 'block4_pool/MaxPool:0' shape=(None, 14, 14, 512) dtype=float32>"
      ]
     },
     "execution_count": 10,
     "metadata": {},
     "output_type": "execute_result"
    }
   ],
   "source": [
    "model.output"
   ]
  },
  {
   "cell_type": "code",
   "execution_count": 11,
   "metadata": {},
   "outputs": [
    {
     "name": "stdout",
     "output_type": "stream",
     "text": [
      "Model: \"vgg16\"\n",
      "_________________________________________________________________\n",
      "Layer (type)                 Output Shape              Param #   \n",
      "=================================================================\n",
      "input_2 (InputLayer)         [(None, 224, 224, 3)]     0         \n",
      "_________________________________________________________________\n",
      "block1_conv1 (Conv2D)        (None, 224, 224, 64)      1792      \n",
      "_________________________________________________________________\n",
      "block1_conv2 (Conv2D)        (None, 224, 224, 64)      36928     \n",
      "_________________________________________________________________\n",
      "block1_pool (MaxPooling2D)   (None, 112, 112, 64)      0         \n",
      "_________________________________________________________________\n",
      "block2_conv1 (Conv2D)        (None, 112, 112, 128)     73856     \n",
      "_________________________________________________________________\n",
      "block2_conv2 (Conv2D)        (None, 112, 112, 128)     147584    \n",
      "_________________________________________________________________\n",
      "block2_pool (MaxPooling2D)   (None, 56, 56, 128)       0         \n",
      "_________________________________________________________________\n",
      "block3_conv1 (Conv2D)        (None, 56, 56, 256)       295168    \n",
      "_________________________________________________________________\n",
      "block3_conv2 (Conv2D)        (None, 56, 56, 256)       590080    \n",
      "_________________________________________________________________\n",
      "block3_conv3 (Conv2D)        (None, 56, 56, 256)       590080    \n",
      "_________________________________________________________________\n",
      "block3_pool (MaxPooling2D)   (None, 28, 28, 256)       0         \n",
      "_________________________________________________________________\n",
      "block4_conv1 (Conv2D)        (None, 28, 28, 512)       1180160   \n",
      "_________________________________________________________________\n",
      "block4_conv2 (Conv2D)        (None, 28, 28, 512)       2359808   \n",
      "_________________________________________________________________\n",
      "block4_conv3 (Conv2D)        (None, 28, 28, 512)       2359808   \n",
      "_________________________________________________________________\n",
      "block4_pool (MaxPooling2D)   (None, 14, 14, 512)       0         \n",
      "_________________________________________________________________\n",
      "block5_conv1 (Conv2D)        (None, 14, 14, 512)       2359808   \n",
      "_________________________________________________________________\n",
      "block5_conv2 (Conv2D)        (None, 14, 14, 512)       2359808   \n",
      "_________________________________________________________________\n",
      "block5_conv3 (Conv2D)        (None, 14, 14, 512)       2359808   \n",
      "_________________________________________________________________\n",
      "block5_pool (MaxPooling2D)   (None, 7, 7, 512)         0         \n",
      "_________________________________________________________________\n",
      "flatten (Flatten)            (None, 25088)             0         \n",
      "_________________________________________________________________\n",
      "fc1 (Dense)                  (None, 4096)              102764544 \n",
      "_________________________________________________________________\n",
      "fc2 (Dense)                  (None, 4096)              16781312  \n",
      "_________________________________________________________________\n",
      "predictions (Dense)          (None, 1000)              4097000   \n",
      "=================================================================\n",
      "Total params: 138,357,544\n",
      "Trainable params: 138,357,544\n",
      "Non-trainable params: 0\n",
      "_________________________________________________________________\n"
     ]
    }
   ],
   "source": [
    "model1=tf.keras.applications.VGG16(weights='imagenet')\n",
    "model1.summary()"
   ]
  },
  {
   "cell_type": "code",
   "execution_count": 12,
   "metadata": {},
   "outputs": [
    {
     "name": "stdout",
     "output_type": "stream",
     "text": [
      "[<tf.Tensor 'block1_pool/MaxPool_1:0' shape=(None, 112, 112, 64) dtype=float32>, <tf.Tensor 'block2_pool/MaxPool_1:0' shape=(None, 56, 56, 128) dtype=float32>]\n"
     ]
    }
   ],
   "source": [
    "layer_names=['block1_pool' , 'block2_pool']\n",
    "layer_outputs=[model1.get_layer(name).output for name in layer_names]\n",
    "model1=tf.keras.Model(inputs=model1.input , outputs=layer_outputs)\n",
    "print(model1.output)"
   ]
  },
  {
   "cell_type": "markdown",
   "metadata": {},
   "source": [
    "### Sanity Check(checking whether output is correct or not-> Applying ReLU activation gives non-negative output)"
   ]
  },
  {
   "cell_type": "code",
   "execution_count": 13,
   "metadata": {},
   "outputs": [
    {
     "data": {
      "text/plain": [
       "[<tf.Tensor: shape=(1, 112, 112, 64), dtype=float32, numpy=\n",
       " array([[[[4.163434  , 0.50487846, 1.49311   , ..., 4.1864595 ,\n",
       "           3.7136462 , 1.5864122 ],\n",
       "          [3.6403868 , 1.2169704 , 0.865389  , ..., 4.4278603 ,\n",
       "           6.85378   , 1.0638473 ],\n",
       "          [1.5969834 , 0.39968187, 0.7151895 , ..., 3.726828  ,\n",
       "           3.5333579 , 1.0204804 ],\n",
       "          ...,\n",
       "          [2.229841  , 0.8932118 , 2.2909544 , ..., 1.9632503 ,\n",
       "           1.867593  , 1.2105496 ],\n",
       "          [1.1911073 , 0.5984419 , 1.8470495 , ..., 2.8050628 ,\n",
       "           3.142548  , 1.0200708 ],\n",
       "          [0.        , 0.        , 0.8841514 , ..., 2.5496292 ,\n",
       "           2.9157698 , 1.3475788 ]],\n",
       " \n",
       "         [[6.3816996 , 3.1763074 , 0.6007012 , ..., 5.1227355 ,\n",
       "           2.0671036 , 1.7696407 ],\n",
       "          [5.2276397 , 3.7953925 , 0.05517325, ..., 4.8634577 ,\n",
       "           3.9067028 , 0.7714239 ],\n",
       "          [5.8868923 , 2.0556047 , 0.85005176, ..., 3.959533  ,\n",
       "           2.9520726 , 0.7949303 ],\n",
       "          ...,\n",
       "          [5.2145658 , 2.3894596 , 2.4379356 , ..., 3.2538385 ,\n",
       "           3.0586357 , 0.97164935],\n",
       "          [2.9025345 , 1.4574709 , 2.3717105 , ..., 2.839432  ,\n",
       "           1.1224327 , 1.2462933 ],\n",
       "          [5.2204456 , 1.3042963 , 1.406431  , ..., 2.785711  ,\n",
       "           4.0886064 , 1.6122174 ]],\n",
       " \n",
       "         [[4.08018   , 0.9168282 , 1.9407907 , ..., 3.9012167 ,\n",
       "           6.4071307 , 0.58299273],\n",
       "          [4.81582   , 1.3832915 , 0.8169306 , ..., 3.0537214 ,\n",
       "           1.0230232 , 1.1630788 ],\n",
       "          [4.097932  , 1.7831762 , 1.4313562 , ..., 2.772121  ,\n",
       "           0.9901534 , 1.0351098 ],\n",
       "          ...,\n",
       "          [5.0839796 , 2.0714717 , 1.4297223 , ..., 4.8395085 ,\n",
       "           5.6550775 , 1.0362794 ],\n",
       "          [3.0885174 , 1.5309081 , 2.0073524 , ..., 2.8376834 ,\n",
       "           5.916036  , 0.79945225],\n",
       "          [1.6000898 , 0.7196534 , 2.0213642 , ..., 2.628083  ,\n",
       "           4.629776  , 1.1386228 ]],\n",
       " \n",
       "         ...,\n",
       " \n",
       "         [[1.0848206 , 0.7518554 , 0.        , ..., 2.1880925 ,\n",
       "           2.4100277 , 0.97562903],\n",
       "          [2.4228463 , 1.2977022 , 0.62557936, ..., 2.5720644 ,\n",
       "           4.0885935 , 1.3834822 ],\n",
       "          [5.429872  , 2.2742476 , 3.1127522 , ..., 3.4086406 ,\n",
       "           4.921244  , 1.1695316 ],\n",
       "          ...,\n",
       "          [1.9482961 , 0.        , 0.39104903, ..., 2.914981  ,\n",
       "           8.117414  , 1.0052788 ],\n",
       "          [6.3323407 , 2.8163357 , 1.8837681 , ..., 2.824843  ,\n",
       "           1.4303309 , 0.9395291 ],\n",
       "          [0.8014951 , 0.        , 2.4018223 , ..., 2.066158  ,\n",
       "           3.2394292 , 1.2538729 ]],\n",
       " \n",
       "         [[4.7272835 , 1.9335308 , 1.5812001 , ..., 4.0447755 ,\n",
       "           4.0283737 , 1.2721639 ],\n",
       "          [4.0077863 , 1.8863289 , 1.6823747 , ..., 3.442502  ,\n",
       "           3.7983854 , 1.429172  ],\n",
       "          [6.2762294 , 3.6663504 , 3.1961515 , ..., 2.559738  ,\n",
       "           1.3291861 , 1.3939345 ],\n",
       "          ...,\n",
       "          [5.582727  , 3.531201  , 0.7250489 , ..., 4.143398  ,\n",
       "           5.3463564 , 1.0726538 ],\n",
       "          [4.768724  , 2.162976  , 2.281532  , ..., 2.8185835 ,\n",
       "           2.6276934 , 0.64066666],\n",
       "          [1.9217787 , 0.7945934 , 2.5594575 , ..., 0.6822222 ,\n",
       "           2.7868922 , 1.0425179 ]],\n",
       " \n",
       "         [[1.7885425 , 0.1278891 , 1.9311442 , ..., 3.9336908 ,\n",
       "           3.9540033 , 1.410543  ],\n",
       "          [3.2097883 , 1.6602244 , 1.9235332 , ..., 3.1419754 ,\n",
       "           5.9889817 , 1.9768445 ],\n",
       "          [3.9508996 , 1.1197526 , 1.3921862 , ..., 2.6765552 ,\n",
       "           2.9679198 , 1.6694324 ],\n",
       "          ...,\n",
       "          [1.7582536 , 1.3276515 , 0.2802245 , ..., 3.0645938 ,\n",
       "           2.7178307 , 1.9874556 ],\n",
       "          [0.        , 0.24183863, 0.8175232 , ..., 1.6144803 ,\n",
       "           7.041576  , 2.612022  ],\n",
       "          [4.508468  , 2.1965103 , 0.73756677, ..., 1.2425889 ,\n",
       "           2.3815124 , 2.145868  ]]]], dtype=float32)>,\n",
       " <tf.Tensor: shape=(1, 56, 56, 128), dtype=float32, numpy=\n",
       " array([[[[16.051064  , 10.160294  , 10.089319  , ..., 31.843246  ,\n",
       "           33.45738   ,  0.        ],\n",
       "          [17.581703  ,  3.127874  ,  0.        , ..., 32.11189   ,\n",
       "            9.350641  ,  0.        ],\n",
       "          [ 8.104826  ,  7.024743  ,  4.4044514 , ..., 33.50099   ,\n",
       "            4.136342  ,  0.        ],\n",
       "          ...,\n",
       "          [ 8.003017  ,  6.763962  ,  0.        , ..., 28.002773  ,\n",
       "            4.7262287 ,  0.        ],\n",
       "          [19.27966   ,  2.4967241 ,  4.4380603 , ..., 31.176283  ,\n",
       "            0.        ,  0.        ],\n",
       "          [19.36296   ,  8.260808  ,  1.2209219 , ..., 33.212357  ,\n",
       "            0.        , 11.992747  ]],\n",
       " \n",
       "         [[ 0.        , 11.743644  , 13.630587  , ..., 26.89964   ,\n",
       "           31.294445  ,  0.        ],\n",
       "          [ 0.        ,  1.960225  ,  0.17540051, ..., 34.633892  ,\n",
       "           14.180731  ,  0.        ],\n",
       "          [ 3.8153698 ,  0.        ,  0.        , ..., 37.359768  ,\n",
       "           12.236261  ,  0.        ],\n",
       "          ...,\n",
       "          [ 6.384401  ,  0.        ,  5.491964  , ..., 29.775225  ,\n",
       "           14.000455  ,  0.        ],\n",
       "          [19.124718  ,  0.        ,  0.        , ..., 29.508953  ,\n",
       "           15.821013  ,  0.        ],\n",
       "          [21.901005  ,  0.6797698 ,  2.2858315 , ..., 34.460644  ,\n",
       "            0.        ,  9.924632  ]],\n",
       " \n",
       "         [[18.094118  , 16.247057  ,  6.4028635 , ..., 24.835743  ,\n",
       "           27.828112  ,  0.        ],\n",
       "          [12.328373  ,  6.081233  ,  4.404854  , ..., 37.478046  ,\n",
       "           15.990255  ,  0.        ],\n",
       "          [19.520037  ,  0.        ,  0.        , ..., 38.994175  ,\n",
       "            7.356173  ,  0.        ],\n",
       "          ...,\n",
       "          [ 4.237944  ,  0.49939233,  1.8339937 , ..., 24.214432  ,\n",
       "           15.074277  ,  6.3845053 ],\n",
       "          [ 0.        ,  0.        ,  2.698275  , ..., 30.701668  ,\n",
       "           20.916187  ,  0.        ],\n",
       "          [ 6.6484494 ,  0.        ,  7.7438097 , ..., 32.726856  ,\n",
       "            0.        , 14.6161785 ]],\n",
       " \n",
       "         ...,\n",
       " \n",
       "         [[25.826332  , 18.872377  ,  0.7923307 , ..., 35.65174   ,\n",
       "           26.530745  ,  0.        ],\n",
       "          [28.99021   ,  0.        ,  0.8119902 , ..., 43.69201   ,\n",
       "            8.955381  ,  0.        ],\n",
       "          [12.889141  ,  0.        ,  3.3282702 , ..., 42.053547  ,\n",
       "            8.315706  ,  0.        ],\n",
       "          ...,\n",
       "          [ 4.4982495 ,  9.057747  ,  4.094723  , ..., 27.619308  ,\n",
       "           18.869694  ,  0.        ],\n",
       "          [11.595225  ,  0.        , 10.154609  , ..., 21.375088  ,\n",
       "            1.570094  ,  0.        ],\n",
       "          [12.092365  ,  0.        ,  3.8951237 , ..., 14.9534445 ,\n",
       "            0.        , 14.882493  ]],\n",
       " \n",
       "         [[ 0.        , 16.234003  ,  3.2402198 , ..., 30.712708  ,\n",
       "           32.236965  ,  0.        ],\n",
       "          [ 1.094366  ,  0.        ,  8.026122  , ..., 38.52999   ,\n",
       "           11.395609  ,  0.        ],\n",
       "          [ 0.        ,  0.        , 13.722715  , ..., 37.421024  ,\n",
       "           17.149986  ,  0.        ],\n",
       "          ...,\n",
       "          [ 8.993166  ,  0.        ,  8.523208  , ..., 34.870277  ,\n",
       "           23.314257  ,  0.        ],\n",
       "          [16.385992  ,  2.285524  ,  5.3842163 , ..., 29.075314  ,\n",
       "           14.014997  ,  0.        ],\n",
       "          [10.568881  ,  0.        ,  9.513293  , ..., 21.58112   ,\n",
       "            0.        , 11.98574   ]],\n",
       " \n",
       "         [[ 8.258364  , 11.029894  ,  2.6349056 , ..., 32.24194   ,\n",
       "           32.32236   ,  0.        ],\n",
       "          [ 3.7441347 ,  0.        ,  7.5689807 , ..., 34.71576   ,\n",
       "           17.927608  ,  0.        ],\n",
       "          [ 0.        ,  3.9397113 ,  0.        , ..., 28.979013  ,\n",
       "           17.734932  ,  0.        ],\n",
       "          ...,\n",
       "          [ 8.944701  ,  0.5623866 ,  0.        , ..., 29.468678  ,\n",
       "           20.519024  ,  4.888229  ],\n",
       "          [18.942802  ,  0.6990908 ,  0.        , ..., 28.766335  ,\n",
       "           22.918394  ,  0.        ],\n",
       "          [10.988196  ,  0.        , 10.324541  , ..., 24.561224  ,\n",
       "            2.645192  , 13.923726  ]]]], dtype=float32)>]"
      ]
     },
     "execution_count": 13,
     "metadata": {},
     "output_type": "execute_result"
    }
   ],
   "source": [
    "rand_tensor=tf.random.uniform(shape=[1,224,224,3])\n",
    "out_=model1(rand_tensor)\n",
    "out_"
   ]
  },
  {
   "cell_type": "markdown",
   "metadata": {},
   "source": [
    "## Adding layers && reading documentation && counting the number of parameters"
   ]
  },
  {
   "cell_type": "code",
   "execution_count": 2,
   "metadata": {},
   "outputs": [
    {
     "name": "stdout",
     "output_type": "stream",
     "text": [
      "Model: \"vgg16\"\n",
      "_________________________________________________________________\n",
      "Layer (type)                 Output Shape              Param #   \n",
      "=================================================================\n",
      "input_1 (InputLayer)         [(None, 224, 224, 3)]     0         \n",
      "_________________________________________________________________\n",
      "block1_conv1 (Conv2D)        (None, 224, 224, 64)      1792      \n",
      "_________________________________________________________________\n",
      "block1_conv2 (Conv2D)        (None, 224, 224, 64)      36928     \n",
      "_________________________________________________________________\n",
      "block1_pool (MaxPooling2D)   (None, 112, 112, 64)      0         \n",
      "_________________________________________________________________\n",
      "block2_conv1 (Conv2D)        (None, 112, 112, 128)     73856     \n",
      "_________________________________________________________________\n",
      "block2_conv2 (Conv2D)        (None, 112, 112, 128)     147584    \n",
      "_________________________________________________________________\n",
      "block2_pool (MaxPooling2D)   (None, 56, 56, 128)       0         \n",
      "_________________________________________________________________\n",
      "block3_conv1 (Conv2D)        (None, 56, 56, 256)       295168    \n",
      "_________________________________________________________________\n",
      "block3_conv2 (Conv2D)        (None, 56, 56, 256)       590080    \n",
      "_________________________________________________________________\n",
      "block3_conv3 (Conv2D)        (None, 56, 56, 256)       590080    \n",
      "_________________________________________________________________\n",
      "block3_pool (MaxPooling2D)   (None, 28, 28, 256)       0         \n",
      "_________________________________________________________________\n",
      "block4_conv1 (Conv2D)        (None, 28, 28, 512)       1180160   \n",
      "_________________________________________________________________\n",
      "block4_conv2 (Conv2D)        (None, 28, 28, 512)       2359808   \n",
      "_________________________________________________________________\n",
      "block4_conv3 (Conv2D)        (None, 28, 28, 512)       2359808   \n",
      "_________________________________________________________________\n",
      "block4_pool (MaxPooling2D)   (None, 14, 14, 512)       0         \n",
      "_________________________________________________________________\n",
      "block5_conv1 (Conv2D)        (None, 14, 14, 512)       2359808   \n",
      "_________________________________________________________________\n",
      "block5_conv2 (Conv2D)        (None, 14, 14, 512)       2359808   \n",
      "_________________________________________________________________\n",
      "block5_conv3 (Conv2D)        (None, 14, 14, 512)       2359808   \n",
      "_________________________________________________________________\n",
      "block5_pool (MaxPooling2D)   (None, 7, 7, 512)         0         \n",
      "_________________________________________________________________\n",
      "flatten (Flatten)            (None, 25088)             0         \n",
      "_________________________________________________________________\n",
      "fc1 (Dense)                  (None, 4096)              102764544 \n",
      "_________________________________________________________________\n",
      "fc2 (Dense)                  (None, 4096)              16781312  \n",
      "_________________________________________________________________\n",
      "predictions (Dense)          (None, 1000)              4097000   \n",
      "=================================================================\n",
      "Total params: 138,357,544\n",
      "Trainable params: 138,357,544\n",
      "Non-trainable params: 0\n",
      "_________________________________________________________________\n"
     ]
    }
   ],
   "source": [
    "import tensorflow as tf\n",
    "from tensorflow.keras.layers import *\n",
    "model2=tf.keras.applications.VGG16(weights='imagenet')\n",
    "model2.summary()"
   ]
  },
  {
   "cell_type": "code",
   "execution_count": 21,
   "metadata": {},
   "outputs": [
    {
     "name": "stdout",
     "output_type": "stream",
     "text": [
      "Model: \"functional_17\"\n",
      "_________________________________________________________________\n",
      "Layer (type)                 Output Shape              Param #   \n",
      "=================================================================\n",
      "input_1 (InputLayer)         [(None, 224, 224, 3)]     0         \n",
      "_________________________________________________________________\n",
      "block1_conv1 (Conv2D)        (None, 224, 224, 64)      1792      \n",
      "_________________________________________________________________\n",
      "block1_conv2 (Conv2D)        (None, 224, 224, 64)      36928     \n",
      "_________________________________________________________________\n",
      "block1_pool (MaxPooling2D)   (None, 112, 112, 64)      0         \n",
      "_________________________________________________________________\n",
      "block2_conv1 (Conv2D)        (None, 112, 112, 128)     73856     \n",
      "_________________________________________________________________\n",
      "block2_conv2 (Conv2D)        (None, 112, 112, 128)     147584    \n",
      "_________________________________________________________________\n",
      "block2_pool (MaxPooling2D)   (None, 56, 56, 128)       0         \n",
      "_________________________________________________________________\n",
      "block3_conv1 (Conv2D)        (None, 56, 56, 256)       295168    \n",
      "_________________________________________________________________\n",
      "block3_conv2 (Conv2D)        (None, 56, 56, 256)       590080    \n",
      "_________________________________________________________________\n",
      "block3_conv3 (Conv2D)        (None, 56, 56, 256)       590080    \n",
      "_________________________________________________________________\n",
      "block3_pool (MaxPooling2D)   (None, 28, 28, 256)       0         \n",
      "_________________________________________________________________\n",
      "block4_conv1 (Conv2D)        (None, 28, 28, 512)       1180160   \n",
      "_________________________________________________________________\n",
      "block4_conv2 (Conv2D)        (None, 28, 28, 512)       2359808   \n",
      "_________________________________________________________________\n",
      "block4_conv3 (Conv2D)        (None, 28, 28, 512)       2359808   \n",
      "_________________________________________________________________\n",
      "block4_pool (MaxPooling2D)   (None, 14, 14, 512)       0         \n",
      "=================================================================\n",
      "Total params: 7,635,264\n",
      "Trainable params: 7,635,264\n",
      "Non-trainable params: 0\n",
      "_________________________________________________________________\n"
     ]
    }
   ],
   "source": [
    "model2=tf.keras.Model(inputs=model2.input , outputs=model2.get_layer('block4_pool').output)\n",
    "model2.summary()"
   ]
  },
  {
   "cell_type": "code",
   "execution_count": 22,
   "metadata": {},
   "outputs": [
    {
     "data": {
      "text/plain": [
       "\u001b[0;31mInit signature:\u001b[0m \u001b[0mConv2D\u001b[0m\u001b[0;34m(\u001b[0m\u001b[0;34m*\u001b[0m\u001b[0margs\u001b[0m\u001b[0;34m,\u001b[0m \u001b[0;34m**\u001b[0m\u001b[0mkwargs\u001b[0m\u001b[0;34m)\u001b[0m\u001b[0;34m\u001b[0m\u001b[0;34m\u001b[0m\u001b[0m\n",
       "\u001b[0;31mDocstring:\u001b[0m     \n",
       "2D convolution layer (e.g. spatial convolution over images).\n",
       "\n",
       "This layer creates a convolution kernel that is convolved\n",
       "with the layer input to produce a tensor of\n",
       "outputs. If `use_bias` is True,\n",
       "a bias vector is created and added to the outputs. Finally, if\n",
       "`activation` is not `None`, it is applied to the outputs as well.\n",
       "\n",
       "When using this layer as the first layer in a model,\n",
       "provide the keyword argument `input_shape`\n",
       "(tuple of integers, does not include the sample axis),\n",
       "e.g. `input_shape=(128, 128, 3)` for 128x128 RGB pictures\n",
       "in `data_format=\"channels_last\"`.\n",
       "\n",
       "Examples:\n",
       "\n",
       ">>> # The inputs are 28x28 RGB images with `channels_last` and the batch\n",
       ">>> # size is 4.\n",
       ">>> input_shape = (4, 28, 28, 3)\n",
       ">>> x = tf.random.normal(input_shape)\n",
       ">>> y = tf.keras.layers.Conv2D(\n",
       "... 2, 3, activation='relu', input_shape=input_shape[1:])(x)\n",
       ">>> print(y.shape)\n",
       "(4, 26, 26, 2)\n",
       "\n",
       ">>> # With `dilation_rate` as 2.\n",
       ">>> input_shape = (4, 28, 28, 3)\n",
       ">>> x = tf.random.normal(input_shape)\n",
       ">>> y = tf.keras.layers.Conv2D(\n",
       "... 2, 3, activation='relu', dilation_rate=2, input_shape=input_shape[1:])(x)\n",
       ">>> print(y.shape)\n",
       "(4, 24, 24, 2)\n",
       "\n",
       ">>> # With `padding` as \"same\".\n",
       ">>> input_shape = (4, 28, 28, 3)\n",
       ">>> x = tf.random.normal(input_shape)\n",
       ">>> y = tf.keras.layers.Conv2D(\n",
       "... 2, 3, activation='relu', padding=\"same\", input_shape=input_shape[1:])(x)\n",
       ">>> print(y.shape)\n",
       "(4, 28, 28, 2)\n",
       "\n",
       ">>> # With extended batch shape [4, 7]:\n",
       ">>> input_shape = (4, 7, 28, 28, 3)\n",
       ">>> x = tf.random.normal(input_shape)\n",
       ">>> y = tf.keras.layers.Conv2D(\n",
       "... 2, 3, activation='relu', input_shape=input_shape[2:])(x)\n",
       ">>> print(y.shape)\n",
       "(4, 7, 26, 26, 2)\n",
       "\n",
       "\n",
       "Arguments:\n",
       "  filters: Integer, the dimensionality of the output space (i.e. the number of\n",
       "    output filters in the convolution).\n",
       "  kernel_size: An integer or tuple/list of 2 integers, specifying the height\n",
       "    and width of the 2D convolution window. Can be a single integer to specify\n",
       "    the same value for all spatial dimensions.\n",
       "  strides: An integer or tuple/list of 2 integers, specifying the strides of\n",
       "    the convolution along the height and width. Can be a single integer to\n",
       "    specify the same value for all spatial dimensions. Specifying any stride\n",
       "    value != 1 is incompatible with specifying any `dilation_rate` value != 1.\n",
       "  padding: one of `\"valid\"` or `\"same\"` (case-insensitive).\n",
       "  data_format: A string, one of `channels_last` (default) or `channels_first`.\n",
       "    The ordering of the dimensions in the inputs. `channels_last` corresponds\n",
       "    to inputs with shape `(batch_size, height, width, channels)` while\n",
       "    `channels_first` corresponds to inputs with shape `(batch_size, channels,\n",
       "    height, width)`. It defaults to the `image_data_format` value found in\n",
       "    your Keras config file at `~/.keras/keras.json`. If you never set it, then\n",
       "    it will be `channels_last`.\n",
       "  dilation_rate: an integer or tuple/list of 2 integers, specifying the\n",
       "    dilation rate to use for dilated convolution. Can be a single integer to\n",
       "    specify the same value for all spatial dimensions. Currently, specifying\n",
       "    any `dilation_rate` value != 1 is incompatible with specifying any stride\n",
       "    value != 1.\n",
       "  groups: A positive integer specifying the number of groups in which the\n",
       "    input is split along the channel axis. Each group is convolved separately\n",
       "    with `filters / groups` filters. The output is the concatenation of all\n",
       "    the `groups` results along the channel axis. Input channels and `filters`\n",
       "    must both be divisible by `groups`.\n",
       "  activation: Activation function to use. If you don't specify anything, no\n",
       "    activation is applied (see `keras.activations`).\n",
       "  use_bias: Boolean, whether the layer uses a bias vector.\n",
       "  kernel_initializer: Initializer for the `kernel` weights matrix (see\n",
       "    `keras.initializers`).\n",
       "  bias_initializer: Initializer for the bias vector (see\n",
       "    `keras.initializers`).\n",
       "  kernel_regularizer: Regularizer function applied to the `kernel` weights\n",
       "    matrix (see `keras.regularizers`).\n",
       "  bias_regularizer: Regularizer function applied to the bias vector (see\n",
       "    `keras.regularizers`).\n",
       "  activity_regularizer: Regularizer function applied to the output of the\n",
       "    layer (its \"activation\") (see `keras.regularizers`).\n",
       "  kernel_constraint: Constraint function applied to the kernel matrix (see\n",
       "    `keras.constraints`).\n",
       "  bias_constraint: Constraint function applied to the bias vector (see\n",
       "    `keras.constraints`).\n",
       "Input shape:\n",
       "  4+D tensor with shape: `batch_shape + (channels, rows, cols)` if\n",
       "    `data_format='channels_first'`\n",
       "  or 4+D tensor with shape: `batch_shape + (rows, cols, channels)` if\n",
       "    `data_format='channels_last'`.\n",
       "Output shape:\n",
       "  4+D tensor with shape: `batch_shape + (filters, new_rows, new_cols)` if\n",
       "  `data_format='channels_first'` or 4+D tensor with shape: `batch_shape +\n",
       "    (new_rows, new_cols, filters)` if `data_format='channels_last'`.  `rows`\n",
       "    and `cols` values might have changed due to padding.\n",
       "\n",
       "Returns:\n",
       "  A tensor of rank 4+ representing\n",
       "  `activation(conv2d(inputs, kernel) + bias)`.\n",
       "\n",
       "Raises:\n",
       "  ValueError: if `padding` is `\"causal\"`.\n",
       "  ValueError: when both `strides > 1` and `dilation_rate > 1`.\n",
       "\u001b[0;31mFile:\u001b[0m           ~/anaconda3/lib/python3.8/site-packages/tensorflow/python/keras/layers/convolutional.py\n",
       "\u001b[0;31mType:\u001b[0m           type\n",
       "\u001b[0;31mSubclasses:\u001b[0m     Conv2DTranspose, DepthwiseConv2D, Conv2D\n"
      ]
     },
     "metadata": {},
     "output_type": "display_data"
    }
   ],
   "source": [
    "Conv2D?"
   ]
  },
  {
   "cell_type": "code",
   "execution_count": 25,
   "metadata": {},
   "outputs": [],
   "source": [
    "x=model2.output\n",
    "x=Conv2D(64,3,activation='relu',name='extended_1')(x)\n",
    "x=Conv2D(64,3,name='extended_2')(x)\n",
    "x=BatchNormalization(name='BN')(x)\n",
    "x=Conv2D(64,3,use_bias=False,name='extended_3')(x)\n",
    "\n",
    "model2=tf.keras.Model(inputs=model2.input , outputs=x)"
   ]
  },
  {
   "cell_type": "code",
   "execution_count": 26,
   "metadata": {},
   "outputs": [
    {
     "name": "stdout",
     "output_type": "stream",
     "text": [
      "Model: \"functional_19\"\n",
      "_________________________________________________________________\n",
      "Layer (type)                 Output Shape              Param #   \n",
      "=================================================================\n",
      "input_1 (InputLayer)         [(None, 224, 224, 3)]     0         \n",
      "_________________________________________________________________\n",
      "block1_conv1 (Conv2D)        (None, 224, 224, 64)      1792      \n",
      "_________________________________________________________________\n",
      "block1_conv2 (Conv2D)        (None, 224, 224, 64)      36928     \n",
      "_________________________________________________________________\n",
      "block1_pool (MaxPooling2D)   (None, 112, 112, 64)      0         \n",
      "_________________________________________________________________\n",
      "block2_conv1 (Conv2D)        (None, 112, 112, 128)     73856     \n",
      "_________________________________________________________________\n",
      "block2_conv2 (Conv2D)        (None, 112, 112, 128)     147584    \n",
      "_________________________________________________________________\n",
      "block2_pool (MaxPooling2D)   (None, 56, 56, 128)       0         \n",
      "_________________________________________________________________\n",
      "block3_conv1 (Conv2D)        (None, 56, 56, 256)       295168    \n",
      "_________________________________________________________________\n",
      "block3_conv2 (Conv2D)        (None, 56, 56, 256)       590080    \n",
      "_________________________________________________________________\n",
      "block3_conv3 (Conv2D)        (None, 56, 56, 256)       590080    \n",
      "_________________________________________________________________\n",
      "block3_pool (MaxPooling2D)   (None, 28, 28, 256)       0         \n",
      "_________________________________________________________________\n",
      "block4_conv1 (Conv2D)        (None, 28, 28, 512)       1180160   \n",
      "_________________________________________________________________\n",
      "block4_conv2 (Conv2D)        (None, 28, 28, 512)       2359808   \n",
      "_________________________________________________________________\n",
      "block4_conv3 (Conv2D)        (None, 28, 28, 512)       2359808   \n",
      "_________________________________________________________________\n",
      "block4_pool (MaxPooling2D)   (None, 14, 14, 512)       0         \n",
      "_________________________________________________________________\n",
      "extended_1 (Conv2D)          (None, 12, 12, 64)        294976    \n",
      "_________________________________________________________________\n",
      "extended_2 (Conv2D)          (None, 10, 10, 64)        36928     \n",
      "_________________________________________________________________\n",
      "BN (BatchNormalization)      (None, 10, 10, 64)        256       \n",
      "_________________________________________________________________\n",
      "extended_3 (Conv2D)          (None, 8, 8, 64)          36864     \n",
      "=================================================================\n",
      "Total params: 8,004,288\n",
      "Trainable params: 8,004,160\n",
      "Non-trainable params: 128\n",
      "_________________________________________________________________\n"
     ]
    }
   ],
   "source": [
    "model2.summary()"
   ]
  },
  {
   "cell_type": "code",
   "execution_count": null,
   "metadata": {},
   "outputs": [],
   "source": []
  },
  {
   "cell_type": "code",
   "execution_count": null,
   "metadata": {},
   "outputs": [],
   "source": []
  },
  {
   "cell_type": "code",
   "execution_count": null,
   "metadata": {},
   "outputs": [],
   "source": []
  },
  {
   "cell_type": "code",
   "execution_count": null,
   "metadata": {},
   "outputs": [],
   "source": []
  },
  {
   "cell_type": "code",
   "execution_count": null,
   "metadata": {},
   "outputs": [],
   "source": []
  }
 ],
 "metadata": {
  "kernelspec": {
   "display_name": "Python 3",
   "language": "python",
   "name": "python3"
  },
  "language_info": {
   "codemirror_mode": {
    "name": "ipython",
    "version": 3
   },
   "file_extension": ".py",
   "mimetype": "text/x-python",
   "name": "python",
   "nbconvert_exporter": "python",
   "pygments_lexer": "ipython3",
   "version": "3.8.3"
  }
 },
 "nbformat": 4,
 "nbformat_minor": 4
}
